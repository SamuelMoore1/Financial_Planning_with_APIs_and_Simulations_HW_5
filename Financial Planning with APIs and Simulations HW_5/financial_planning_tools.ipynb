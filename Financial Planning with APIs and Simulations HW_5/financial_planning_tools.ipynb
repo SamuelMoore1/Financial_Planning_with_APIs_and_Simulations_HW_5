{
 "cells": [
  {
   "cell_type": "markdown",
   "metadata": {},
   "source": [
    "# Financial Planning with APIs and Simulations\n",
    "\n",
    "In this Challenge, you’ll create two financial analysis tools by using a single Jupyter notebook:\n",
    "\n",
    "Part 1: A financial planner for emergencies. The members will be able to use this tool to visualize their current savings. The members can then determine if they have enough reserves for an emergency fund.\n",
    "\n",
    "Part 2: A financial planner for retirement. This tool will forecast the performance of their retirement portfolio in 30 years. To do this, the tool will make an Alpaca API call via the Alpaca SDK to get historical price data for use in Monte Carlo simulations.\n",
    "\n",
    "You’ll use the information from the Monte Carlo simulation to answer questions about the portfolio in your Jupyter notebook.\n",
    "\n"
   ]
  },
  {
   "cell_type": "code",
   "execution_count": 1,
   "metadata": {},
   "outputs": [],
   "source": [
    "# Import the required libraries and dependencies\n",
    "import os\n",
    "import requests\n",
    "import json\n",
    "import pandas as pd\n",
    "from dotenv import load_dotenv\n",
    "import alpaca_trade_api as tradeapi\n",
    "from MCForecastTools import MCSimulation\n",
    "\n",
    "%matplotlib inline"
   ]
  },
  {
   "cell_type": "code",
   "execution_count": 2,
   "metadata": {},
   "outputs": [
    {
     "data": {
      "text/plain": [
       "True"
      ]
     },
     "execution_count": 2,
     "metadata": {},
     "output_type": "execute_result"
    }
   ],
   "source": [
    "# Load the environment variables from the .env file\n",
    "#by calling the load_dotenv function\n",
    "load_dotenv()"
   ]
  },
  {
   "cell_type": "markdown",
   "metadata": {},
   "source": [
    "## Part 1: Create a Financial Planner for Emergencies"
   ]
  },
  {
   "cell_type": "markdown",
   "metadata": {},
   "source": [
    "### Evaluate the Cryptocurrency Wallet by Using the Requests Library\n",
    "\n",
    "In this section, you’ll determine the current value of a member’s cryptocurrency wallet. You’ll collect the current prices for the Bitcoin and Ethereum cryptocurrencies by using the Python Requests library. For the prototype, you’ll assume that the member holds the 1.2 Bitcoins (BTC) and 5.3 Ethereum coins (ETH). To do all this, complete the following steps:\n",
    "\n",
    "1. Create a variable named `monthly_income`, and set its value to `12000`.\n",
    "\n",
    "2. Use the Requests library to get the current price (in US dollars) of Bitcoin (BTC) and Ethereum (ETH) by using the API endpoints that the starter code supplies.\n",
    "\n",
    "3. Navigate the JSON response object to access the current price of each coin, and store each in a variable.\n",
    "\n",
    "    > **Hint** Note the specific identifier for each cryptocurrency in the API JSON response. The Bitcoin identifier is `1`, and the Ethereum identifier is `1027`.\n",
    "\n",
    "4. Calculate the value, in US dollars, of the current amount of each cryptocurrency and of the entire cryptocurrency wallet.\n",
    "\n"
   ]
  },
  {
   "cell_type": "code",
   "execution_count": 3,
   "metadata": {},
   "outputs": [],
   "source": [
    "# The current number of coins for each cryptocurrency asset held in the portfolio.\n",
    "btc_coins = 1.2\n",
    "eth_coins = 5.3"
   ]
  },
  {
   "cell_type": "markdown",
   "metadata": {},
   "source": [
    "#### Step 1: Create a variable named `monthly_income`, and set its value to `12000`."
   ]
  },
  {
   "cell_type": "code",
   "execution_count": 4,
   "metadata": {},
   "outputs": [],
   "source": [
    "# The monthly amount for the member's household income\n",
    "monthly_income = 12000"
   ]
  },
  {
   "cell_type": "markdown",
   "metadata": {},
   "source": [
    "#### Review the endpoint URLs for the API calls to Free Crypto API in order to get the current pricing information for both BTC and ETH."
   ]
  },
  {
   "cell_type": "code",
   "execution_count": 5,
   "metadata": {},
   "outputs": [],
   "source": [
    "# The Free Crypto API Call endpoint URLs for the held cryptocurrency assets\n",
    "btc_url = \"https://api.alternative.me/v2/ticker/Bitcoin/?convert=USD\"\n",
    "eth_url = \"https://api.alternative.me/v2/ticker/Ethereum/?convert=USD\""
   ]
  },
  {
   "cell_type": "markdown",
   "metadata": {},
   "source": [
    "#### Step 2. Use the Requests library to get the current price (in US dollars) of Bitcoin (BTC) and Ethereum (ETH) by using the API endpoints that the starter code supplied."
   ]
  },
  {
   "cell_type": "code",
   "execution_count": 6,
   "metadata": {},
   "outputs": [
    {
     "name": "stdout",
     "output_type": "stream",
     "text": [
      "{\n",
      "   \"data\": {\n",
      "      \"1\": {\n",
      "         \"circulating_supply\": 18748000,\n",
      "         \"id\": 1,\n",
      "         \"last_updated\": 1625439561,\n",
      "         \"max_supply\": 21000000,\n",
      "         \"name\": \"Bitcoin\",\n",
      "         \"quotes\": {\n",
      "            \"USD\": {\n",
      "               \"market_cap\": 667718810295,\n",
      "               \"percent_change_1h\": -1.55375554353023,\n",
      "               \"percent_change_24h\": 2.41956798988823,\n",
      "               \"percent_change_7d\": 10.6686217092896,\n",
      "               \"percentage_change_1h\": -1.55375554353023,\n",
      "               \"percentage_change_24h\": 2.41956798988823,\n",
      "               \"percentage_change_7d\": 10.6686217092896,\n",
      "               \"price\": 35440.0,\n",
      "               \"volume_24h\": 22355581466\n",
      "            }\n",
      "         },\n",
      "         \"rank\": 1,\n",
      "         \"symbol\": \"BTC\",\n",
      "         \"total_supply\": 18748000,\n",
      "         \"website_slug\": \"bitcoin\"\n",
      "      }\n",
      "   },\n",
      "   \"metadata\": {\n",
      "      \"error\": null,\n",
      "      \"num_cryptocurrencies\": 1278,\n",
      "      \"timestamp\": 1625439561\n",
      "   }\n",
      "}\n"
     ]
    }
   ],
   "source": [
    "# Using the Python requests library, make an API call to access the current price of BTC\n",
    "btc_response = requests.get(btc_url).json()\n",
    "\n",
    "# Use the json.dumps function to review the response data from the API call\n",
    "# Use the indent and sort_keys parameters to make the response object readable\n",
    "print(json.dumps(btc_response, indent=3, sort_keys=True))"
   ]
  },
  {
   "cell_type": "code",
   "execution_count": 7,
   "metadata": {},
   "outputs": [
    {
     "name": "stdout",
     "output_type": "stream",
     "text": [
      "{\n",
      "   \"data\": {\n",
      "      \"1027\": {\n",
      "         \"circulating_supply\": 116560948,\n",
      "         \"id\": 1027,\n",
      "         \"last_updated\": 1625439561,\n",
      "         \"max_supply\": 0,\n",
      "         \"name\": \"Ethereum\",\n",
      "         \"quotes\": {\n",
      "            \"USD\": {\n",
      "               \"market_cap\": 275873945345,\n",
      "               \"percent_change_1h\": -2.0552101307892,\n",
      "               \"percent_change_24h\": 5.98197911410338,\n",
      "               \"percent_change_7d\": 28.8759422634191,\n",
      "               \"percentage_change_1h\": -2.0552101307892,\n",
      "               \"percentage_change_24h\": 5.98197911410338,\n",
      "               \"percentage_change_7d\": 28.8759422634191,\n",
      "               \"price\": 2341.74,\n",
      "               \"volume_24h\": 20862699626\n",
      "            }\n",
      "         },\n",
      "         \"rank\": 2,\n",
      "         \"symbol\": \"ETH\",\n",
      "         \"total_supply\": 116560948,\n",
      "         \"website_slug\": \"ethereum\"\n",
      "      }\n",
      "   },\n",
      "   \"metadata\": {\n",
      "      \"error\": null,\n",
      "      \"num_cryptocurrencies\": 1278,\n",
      "      \"timestamp\": 1625439561\n",
      "   }\n",
      "}\n"
     ]
    }
   ],
   "source": [
    "# Using the Python requests library, make an API call to access the current price ETH\n",
    "eth_response = requests.get(eth_url).json()\n",
    "\n",
    "# Use the json.dumps function to review the response data from the API call\n",
    "# Use the indent and sort_keys parameters to make the response object readable\n",
    "print(json.dumps(eth_response, indent=3, sort_keys=True))"
   ]
  },
  {
   "cell_type": "markdown",
   "metadata": {},
   "source": [
    "#### Step 3: Navigate the JSON response object to access the current price of each coin, and store each in a variable."
   ]
  },
  {
   "cell_type": "code",
   "execution_count": 8,
   "metadata": {},
   "outputs": [
    {
     "data": {
      "text/plain": [
       "35440.0"
      ]
     },
     "execution_count": 8,
     "metadata": {},
     "output_type": "execute_result"
    }
   ],
   "source": [
    "# Navigate the BTC response object to access the current price of BTC\n",
    "btc_price = btc_response['data']['1']['quotes']['USD']['price']\n",
    "\n",
    "# Print the current price of BTC\n",
    "btc_price"
   ]
  },
  {
   "cell_type": "code",
   "execution_count": 9,
   "metadata": {},
   "outputs": [
    {
     "data": {
      "text/plain": [
       "2341.74"
      ]
     },
     "execution_count": 9,
     "metadata": {},
     "output_type": "execute_result"
    }
   ],
   "source": [
    "# Navigate the BTC response object to access the current price of ETH\n",
    "eth_price = eth_response['data']['1027']['quotes']['USD']['price']\n",
    "\n",
    "# Print the current price of ETH\n",
    "eth_price"
   ]
  },
  {
   "cell_type": "markdown",
   "metadata": {},
   "source": [
    "### Step 4: Calculate the value, in US dollars, of the current amount of each cryptocurrency and of the entire cryptocurrency wallet."
   ]
  },
  {
   "cell_type": "code",
   "execution_count": 10,
   "metadata": {},
   "outputs": [
    {
     "data": {
      "text/plain": [
       "42528.0"
      ]
     },
     "execution_count": 10,
     "metadata": {},
     "output_type": "execute_result"
    }
   ],
   "source": [
    "# Compute the current value of the BTC holding \n",
    "btc_value = btc_price * btc_coins\n",
    "\n",
    "# Print current value of your holding in BTC\n",
    "btc_value"
   ]
  },
  {
   "cell_type": "code",
   "execution_count": 11,
   "metadata": {},
   "outputs": [
    {
     "data": {
      "text/plain": [
       "12411.221999999998"
      ]
     },
     "execution_count": 11,
     "metadata": {},
     "output_type": "execute_result"
    }
   ],
   "source": [
    "# Compute the current value of the ETH holding \n",
    "eth_value = eth_price * eth_coins\n",
    "\n",
    "# Print current value of your holding in ETH\n",
    "eth_value\n"
   ]
  },
  {
   "cell_type": "code",
   "execution_count": 12,
   "metadata": {},
   "outputs": [
    {
     "data": {
      "text/plain": [
       "54939.221999999994"
      ]
     },
     "execution_count": 12,
     "metadata": {},
     "output_type": "execute_result"
    }
   ],
   "source": [
    "# Compute the total value of the cryptocurrency wallet\n",
    "# Add the value of the BTC holding to the value of the ETH holding\n",
    "total_crypto_wallet = eth_value + btc_value\n",
    "\n",
    "# Print current cryptocurrency wallet balance\n",
    "total_crypto_wallet"
   ]
  },
  {
   "cell_type": "markdown",
   "metadata": {},
   "source": [
    "### Evaluate the Stock and Bond Holdings by Using the Alpaca SDK\n",
    "\n",
    "In this section, you’ll determine the current value of a member’s stock and bond holdings. You’ll make an API call to Alpaca via the Alpaca SDK to get the current closing prices of the SPDR S&P 500 ETF Trust (ticker: SPY) and of the iShares Core US Aggregate Bond ETF (ticker: AGG). For the prototype, assume that the member holds 110 shares of SPY, which represents the stock portion of their portfolio, and 200 shares of AGG, which represents the bond portion. To do all this, complete the following steps:\n",
    "\n",
    "1. In the `Starter_Code` folder, create an environment file (`.env`) to store the values of your Alpaca API key and Alpaca secret key.\n",
    "\n",
    "2. Set the variables for the Alpaca API and secret keys. Using the Alpaca SDK, create the Alpaca `tradeapi.REST` object. In this object, include the parameters for the Alpaca API key, the secret key, and the version number.\n",
    "\n",
    "3. Set the following parameters for the Alpaca API call:\n",
    "\n",
    "    - `tickers`: Use the tickers for the member’s stock and bond holdings.\n",
    "\n",
    "    - `timeframe`: Use a time frame of one day.\n",
    "\n",
    "    - `start_date` and `end_date`: Use the same date for these parameters, and format them with the date of the previous weekday (or `2020-08-07`). This is because you want the one closing price for the most-recent trading day.\n",
    "\n",
    "4. Get the current closing prices for `SPY` and `AGG` by using the Alpaca `get_barset` function. Format the response as a Pandas DataFrame by including the `df` property at the end of the `get_barset` function.\n",
    "\n",
    "5. Navigating the Alpaca response DataFrame, select the `SPY` and `AGG` closing prices, and store them as variables.\n",
    "\n",
    "6. Calculate the value, in US dollars, of the current amount of shares in each of the stock and bond portions of the portfolio, and print the results.\n"
   ]
  },
  {
   "cell_type": "markdown",
   "metadata": {},
   "source": [
    "#### Review the total number of shares held in both (SPY) and (AGG)."
   ]
  },
  {
   "cell_type": "code",
   "execution_count": 13,
   "metadata": {},
   "outputs": [],
   "source": [
    "# Current amount of shares held in both the stock (SPY) and bond (AGG) portion of the portfolio.\n",
    "spy_shares = 110\n",
    "agg_shares = 200\n"
   ]
  },
  {
   "cell_type": "markdown",
   "metadata": {},
   "source": [
    "#### Step 1: In the `Starter_Code` folder, create an environment file (`.env`) to store the values of your Alpaca API key and Alpaca secret key."
   ]
  },
  {
   "cell_type": "markdown",
   "metadata": {},
   "source": [
    "#### Step 2: Set the variables for the Alpaca API and secret keys. Using the Alpaca SDK, create the Alpaca `tradeapi.REST` object. In this object, include the parameters for the Alpaca API key, the secret key, and the version number."
   ]
  },
  {
   "cell_type": "code",
   "execution_count": 14,
   "metadata": {},
   "outputs": [],
   "source": [
    "# Set the variables for the Alpaca API and secret keys\n",
    "alpaca_api_key = os.getenv(\"alpaca_trade_api\")\n",
    "alpaca_secret_key = os.getenv(\"alpaca_secret_key\")\n",
    "\n",
    "\n",
    "# Create the Alpaca tradeapi.REST object\n",
    "api = tradeapi.REST(\n",
    "    alpaca_api_key,\n",
    "    alpaca_secret_key,\n",
    "    api_version = \"v2\")"
   ]
  },
  {
   "cell_type": "markdown",
   "metadata": {},
   "source": [
    "#### Step 3: Set the following parameters for the Alpaca API call:\n",
    "\n",
    "- `tickers`: Use the tickers for the member’s stock and bond holdings.\n",
    "\n",
    "- `timeframe`: Use a time frame of one day.\n",
    "\n",
    "- `start_date` and `end_date`: Use the same date for these parameters, and format them with the date of the previous weekday (or `2020-08-07`). This is because you want the one closing price for the most-recent trading day.\n"
   ]
  },
  {
   "cell_type": "code",
   "execution_count": 15,
   "metadata": {},
   "outputs": [],
   "source": [
    "# Set the tickers for both the bond and stock portion of the portfolio\n",
    "tickers = [\"AGG\", \"SPY\"]\n",
    "\n",
    "# Set timeframe to 1D \n",
    "timeframe = \"1D\"\n",
    "\n",
    "# Format current date as ISO format\n",
    "# Set both the start and end date at the date of your prior weekday \n",
    "# This will give you the closing price of the previous trading day\n",
    "# Alternatively you can use a start and end date of 2020-08-07\n",
    "start_date = pd.Timestamp(\"2020-08-07\", tz=\"America/New_York\").isoformat()"
   ]
  },
  {
   "cell_type": "markdown",
   "metadata": {},
   "source": [
    "#### Step 4: Get the current closing prices for `SPY` and `AGG` by using the Alpaca `get_barset` function. Format the response as a Pandas DataFrame by including the `df` property at the end of the `get_barset` function."
   ]
  },
  {
   "cell_type": "code",
   "execution_count": 16,
   "metadata": {},
   "outputs": [
    {
     "data": {
      "text/html": [
       "<div>\n",
       "<style scoped>\n",
       "    .dataframe tbody tr th:only-of-type {\n",
       "        vertical-align: middle;\n",
       "    }\n",
       "\n",
       "    .dataframe tbody tr th {\n",
       "        vertical-align: top;\n",
       "    }\n",
       "\n",
       "    .dataframe thead tr th {\n",
       "        text-align: left;\n",
       "    }\n",
       "\n",
       "    .dataframe thead tr:last-of-type th {\n",
       "        text-align: right;\n",
       "    }\n",
       "</style>\n",
       "<table border=\"1\" class=\"dataframe\">\n",
       "  <thead>\n",
       "    <tr>\n",
       "      <th></th>\n",
       "      <th colspan=\"5\" halign=\"left\">AGG</th>\n",
       "      <th colspan=\"5\" halign=\"left\">SPY</th>\n",
       "    </tr>\n",
       "    <tr>\n",
       "      <th></th>\n",
       "      <th>open</th>\n",
       "      <th>high</th>\n",
       "      <th>low</th>\n",
       "      <th>close</th>\n",
       "      <th>volume</th>\n",
       "      <th>open</th>\n",
       "      <th>high</th>\n",
       "      <th>low</th>\n",
       "      <th>close</th>\n",
       "      <th>volume</th>\n",
       "    </tr>\n",
       "    <tr>\n",
       "      <th>time</th>\n",
       "      <th></th>\n",
       "      <th></th>\n",
       "      <th></th>\n",
       "      <th></th>\n",
       "      <th></th>\n",
       "      <th></th>\n",
       "      <th></th>\n",
       "      <th></th>\n",
       "      <th></th>\n",
       "      <th></th>\n",
       "    </tr>\n",
       "  </thead>\n",
       "  <tbody>\n",
       "    <tr>\n",
       "      <th>2021-02-10 00:00:00-05:00</th>\n",
       "      <td>116.97</td>\n",
       "      <td>117.01</td>\n",
       "      <td>116.9200</td>\n",
       "      <td>117.00</td>\n",
       "      <td>3448438</td>\n",
       "      <td>392.12</td>\n",
       "      <td>392.28</td>\n",
       "      <td>387.50</td>\n",
       "      <td>390.10</td>\n",
       "      <td>53797977</td>\n",
       "    </tr>\n",
       "    <tr>\n",
       "      <th>2021-02-11 00:00:00-05:00</th>\n",
       "      <td>117.03</td>\n",
       "      <td>117.03</td>\n",
       "      <td>116.8000</td>\n",
       "      <td>116.87</td>\n",
       "      <td>3375374</td>\n",
       "      <td>391.24</td>\n",
       "      <td>391.69</td>\n",
       "      <td>388.10</td>\n",
       "      <td>390.73</td>\n",
       "      <td>38939025</td>\n",
       "    </tr>\n",
       "    <tr>\n",
       "      <th>2021-02-12 00:00:00-05:00</th>\n",
       "      <td>116.67</td>\n",
       "      <td>116.74</td>\n",
       "      <td>116.5418</td>\n",
       "      <td>116.58</td>\n",
       "      <td>3209765</td>\n",
       "      <td>389.85</td>\n",
       "      <td>392.90</td>\n",
       "      <td>389.77</td>\n",
       "      <td>392.69</td>\n",
       "      <td>39697380</td>\n",
       "    </tr>\n",
       "    <tr>\n",
       "      <th>2021-02-16 00:00:00-05:00</th>\n",
       "      <td>116.22</td>\n",
       "      <td>116.23</td>\n",
       "      <td>116.0200</td>\n",
       "      <td>116.03</td>\n",
       "      <td>5543350</td>\n",
       "      <td>393.96</td>\n",
       "      <td>394.17</td>\n",
       "      <td>391.53</td>\n",
       "      <td>392.34</td>\n",
       "      <td>43206214</td>\n",
       "    </tr>\n",
       "    <tr>\n",
       "      <th>2021-02-17 00:00:00-05:00</th>\n",
       "      <td>116.22</td>\n",
       "      <td>116.29</td>\n",
       "      <td>116.1450</td>\n",
       "      <td>116.28</td>\n",
       "      <td>6038386</td>\n",
       "      <td>390.42</td>\n",
       "      <td>392.66</td>\n",
       "      <td>389.33</td>\n",
       "      <td>392.43</td>\n",
       "      <td>44671866</td>\n",
       "    </tr>\n",
       "  </tbody>\n",
       "</table>\n",
       "</div>"
      ],
      "text/plain": [
       "                              AGG                                        SPY  \\\n",
       "                             open    high       low   close   volume    open   \n",
       "time                                                                           \n",
       "2021-02-10 00:00:00-05:00  116.97  117.01  116.9200  117.00  3448438  392.12   \n",
       "2021-02-11 00:00:00-05:00  117.03  117.03  116.8000  116.87  3375374  391.24   \n",
       "2021-02-12 00:00:00-05:00  116.67  116.74  116.5418  116.58  3209765  389.85   \n",
       "2021-02-16 00:00:00-05:00  116.22  116.23  116.0200  116.03  5543350  393.96   \n",
       "2021-02-17 00:00:00-05:00  116.22  116.29  116.1450  116.28  6038386  390.42   \n",
       "\n",
       "                                                             \n",
       "                             high     low   close    volume  \n",
       "time                                                         \n",
       "2021-02-10 00:00:00-05:00  392.28  387.50  390.10  53797977  \n",
       "2021-02-11 00:00:00-05:00  391.69  388.10  390.73  38939025  \n",
       "2021-02-12 00:00:00-05:00  392.90  389.77  392.69  39697380  \n",
       "2021-02-16 00:00:00-05:00  394.17  391.53  392.34  43206214  \n",
       "2021-02-17 00:00:00-05:00  392.66  389.33  392.43  44671866  "
      ]
     },
     "execution_count": 16,
     "metadata": {},
     "output_type": "execute_result"
    }
   ],
   "source": [
    "# Use the Alpaca get_barset function to get current closing prices the portfolio\n",
    "# Be sure to set the `df` property after the function to format the response object as a DataFrame\n",
    "df_investments = api.get_barset(\n",
    "tickers,\n",
    "timeframe,\n",
    "start = start_date).df\n",
    "\n",
    "# Review the first 5 rows of the Alpaca DataFrame\n",
    "df_investments.head()"
   ]
  },
  {
   "cell_type": "markdown",
   "metadata": {},
   "source": [
    "#### Step 5: Navigating the Alpaca response DataFrame, select the `SPY` and `AGG` closing prices, and store them as variables."
   ]
  },
  {
   "cell_type": "code",
   "execution_count": 17,
   "metadata": {},
   "outputs": [
    {
     "data": {
      "text/plain": [
       "117.0"
      ]
     },
     "execution_count": 17,
     "metadata": {},
     "output_type": "execute_result"
    }
   ],
   "source": [
    "# Access the closing price for AGG from the Alpaca DataFrame\n",
    "# Converting the value to a floating point number\n",
    "agg_close_price = df_investments['AGG']['close'][0]\n",
    "\n",
    "# Print the AGG closing price\n",
    "# YOUR CODE HERE\n",
    "agg_close_price"
   ]
  },
  {
   "cell_type": "code",
   "execution_count": 18,
   "metadata": {},
   "outputs": [
    {
     "data": {
      "text/plain": [
       "390.1"
      ]
     },
     "execution_count": 18,
     "metadata": {},
     "output_type": "execute_result"
    }
   ],
   "source": [
    "# Access the closing price for SPY from the Alpaca DataFrame\n",
    "# Converting the value to a floating point number\n",
    "spy_close_price = df_investments['SPY']['close'][0]\n",
    "\n",
    "# Print the SPY closing price\n",
    "spy_close_price\n"
   ]
  },
  {
   "cell_type": "markdown",
   "metadata": {},
   "source": [
    "#### Step 6: Calculate the value, in US dollars, of the current amount of shares in each of the stock and bond portions of the portfolio, and print the results."
   ]
  },
  {
   "cell_type": "code",
   "execution_count": 19,
   "metadata": {},
   "outputs": [
    {
     "data": {
      "text/plain": [
       "23400.0"
      ]
     },
     "execution_count": 19,
     "metadata": {},
     "output_type": "execute_result"
    }
   ],
   "source": [
    "# Calculate the current value of the bond portion of the portfolio\n",
    "agg_value = agg_close_price * agg_shares\n",
    "\n",
    "# Print the current value of the bond portfolio\n",
    "agg_value"
   ]
  },
  {
   "cell_type": "code",
   "execution_count": 20,
   "metadata": {},
   "outputs": [
    {
     "data": {
      "text/plain": [
       "42911.0"
      ]
     },
     "execution_count": 20,
     "metadata": {},
     "output_type": "execute_result"
    }
   ],
   "source": [
    "# Calculate the current value of the stock portion of the portfolio\n",
    "spy_value = spy_close_price * spy_shares\n",
    "\n",
    "# Print the current value of the stock portfolio\n",
    "spy_value"
   ]
  },
  {
   "cell_type": "code",
   "execution_count": 21,
   "metadata": {},
   "outputs": [
    {
     "data": {
      "text/plain": [
       "66311.0"
      ]
     },
     "execution_count": 21,
     "metadata": {},
     "output_type": "execute_result"
    }
   ],
   "source": [
    "# Calculate the total value of the stock and bond portion of the portfolio\n",
    "total_stocks_bonds = agg_value + spy_value\n",
    "\n",
    "# Print the current balance of the stock and bond portion of the portfolio\n",
    "total_stocks_bonds"
   ]
  },
  {
   "cell_type": "code",
   "execution_count": 22,
   "metadata": {},
   "outputs": [
    {
     "data": {
      "text/plain": [
       "54939.221999999994"
      ]
     },
     "execution_count": 22,
     "metadata": {},
     "output_type": "execute_result"
    }
   ],
   "source": [
    "# Calculate the total value of the member's entire savings portfolio\n",
    "# Add the value of the cryptocurrency walled to the value of the total stocks and bonds\n",
    "total_portfolio = total_stocks_bonds + total_crypto_wallet\n",
    "\n",
    "# Print current cryptocurrency wallet balance\n",
    "total_crypto_wallet"
   ]
  },
  {
   "cell_type": "markdown",
   "metadata": {},
   "source": [
    "### Evaluate the Emergency Fund\n",
    "\n",
    "In this section, you’ll use the valuations for the cryptocurrency wallet and for the stock and bond portions of the portfolio to determine if the credit union member has enough savings to build an emergency fund into their financial plan. To do this, complete the following steps:\n",
    "\n",
    "1. Create a Python list named `savings_data` that has two elements. The first element contains the total value of the cryptocurrency wallet. The second element contains the total value of the stock and bond portions of the portfolio.\n",
    "\n",
    "2. Use the `savings_data` list to create a Pandas DataFrame named `savings_df`, and then display this DataFrame. The function to create the DataFrame should take the following three parameters:\n",
    "\n",
    "    - `savings_data`: Use the list that you just created.\n",
    "\n",
    "    - `columns`: Set this parameter equal to a Python list with a single value called `amount`.\n",
    "\n",
    "    - `index`: Set this parameter equal to a Python list with the values of `crypto` and `stock/bond`.\n",
    "\n",
    "3. Use the `savings_df` DataFrame to plot a pie chart that visualizes the composition of the member’s portfolio. The y-axis of the pie chart uses `amount`. Be sure to add a title.\n",
    "\n",
    "4. Using Python, determine if the current portfolio has enough to create an emergency fund as part of the member’s financial plan. Ideally, an emergency fund should equal to three times the member’s monthly income. To do this, implement the following steps:\n",
    "\n",
    "    1. Create a variable named `emergency_fund_value`, and set it equal to three times the value of the member’s `monthly_income` of $12000. (You set this earlier in Part 1).\n",
    "\n",
    "    2. Create a series of three if statements to determine if the member’s total portfolio is large enough to fund the emergency portfolio:\n",
    "\n",
    "        1. If the total portfolio value is greater than the emergency fund value, display a message congratulating the member for having enough money in this fund.\n",
    "\n",
    "        2. Else if the total portfolio value is equal to the emergency fund value, display a message congratulating the member on reaching this important financial goal.\n",
    "\n",
    "        3. Else the total portfolio is less than the emergency fund value, so display a message showing how many dollars away the member is from reaching the goal. (Subtract the total portfolio value from the emergency fund value.)\n"
   ]
  },
  {
   "cell_type": "markdown",
   "metadata": {},
   "source": [
    "#### Step 1: Create a Python list named `savings_data` that has two elements. The first element contains the total value of the cryptocurrency wallet. The second element contains the total value of the stock and bond portions of the portfolio."
   ]
  },
  {
   "cell_type": "code",
   "execution_count": 23,
   "metadata": {},
   "outputs": [
    {
     "data": {
      "text/plain": [
       "[54939.221999999994, 66311.0]"
      ]
     },
     "execution_count": 23,
     "metadata": {},
     "output_type": "execute_result"
    }
   ],
   "source": [
    "# Consolidate financial assets data into a Python list\n",
    "savings_data = [total_crypto_wallet, total_stocks_bonds]\n",
    "\n",
    "# Review the Python list savings_data\n",
    "savings_data\n",
    "    "
   ]
  },
  {
   "cell_type": "markdown",
   "metadata": {},
   "source": [
    "#### Step 2: Use the `savings_data` list to create a Pandas DataFrame named `savings_df`, and then display this DataFrame. The function to create the DataFrame should take the following three parameters:\n",
    "\n",
    "- `savings_data`: Use the list that you just created.\n",
    "\n",
    "- `columns`: Set this parameter equal to a Python list with a single value called `amount`.\n",
    "\n",
    "- `index`: Set this parameter equal to a Python list with the values of `crypto` and `stock/bond`.\n"
   ]
  },
  {
   "cell_type": "code",
   "execution_count": 24,
   "metadata": {},
   "outputs": [
    {
     "data": {
      "text/html": [
       "<div>\n",
       "<style scoped>\n",
       "    .dataframe tbody tr th:only-of-type {\n",
       "        vertical-align: middle;\n",
       "    }\n",
       "\n",
       "    .dataframe tbody tr th {\n",
       "        vertical-align: top;\n",
       "    }\n",
       "\n",
       "    .dataframe thead th {\n",
       "        text-align: right;\n",
       "    }\n",
       "</style>\n",
       "<table border=\"1\" class=\"dataframe\">\n",
       "  <thead>\n",
       "    <tr style=\"text-align: right;\">\n",
       "      <th></th>\n",
       "      <th>Amount</th>\n",
       "    </tr>\n",
       "  </thead>\n",
       "  <tbody>\n",
       "    <tr>\n",
       "      <th>crypto</th>\n",
       "      <td>54939.222</td>\n",
       "    </tr>\n",
       "    <tr>\n",
       "      <th>stock/bond</th>\n",
       "      <td>66311.000</td>\n",
       "    </tr>\n",
       "  </tbody>\n",
       "</table>\n",
       "</div>"
      ],
      "text/plain": [
       "               Amount\n",
       "crypto      54939.222\n",
       "stock/bond  66311.000"
      ]
     },
     "execution_count": 24,
     "metadata": {},
     "output_type": "execute_result"
    }
   ],
   "source": [
    "# Create a Pandas DataFrame called savings_df \n",
    "savings_df = pd.DataFrame(savings_data, index=['crypto','stock/bond'], columns=['Amount'])\n",
    "# Display the savings_df DataFrame\n",
    "savings_df"
   ]
  },
  {
   "cell_type": "markdown",
   "metadata": {},
   "source": [
    "#### Step 3: Use the `savings_df` DataFrame to plot a pie chart that visualizes the composition of the member’s portfolio. The y-axis of the pie chart uses `amount`. Be sure to add a title."
   ]
  },
  {
   "cell_type": "code",
   "execution_count": 25,
   "metadata": {},
   "outputs": [
    {
     "data": {
      "image/png": "[encoded data removed]",
      "text/plain": [
       "<Figure size 432x288 with 1 Axes>"
      ]
     },
     "metadata": {},
     "output_type": "display_data"
    }
   ],
   "source": [
    "# Plot the total value of the member's portfolio (crypto and stock/bond) in a pie chart\n",
    "savings_df.plot.pie(y='Amount', title=\"Crypto/Shares Distribution\");"
   ]
  },
  {
   "cell_type": "markdown",
   "metadata": {},
   "source": [
    "#### Step 4: Using Python, determine if the current portfolio has enough to create an emergency fund as part of the member’s financial plan. Ideally, an emergency fund should equal to three times the member’s monthly income. To do this, implement the following steps:\n",
    "\n",
    "Step 1. Create a variable named `emergency_fund_value`, and set it equal to three times the value of the member’s `monthly_income` of 12000. (You set this earlier in Part 1).\n",
    "\n",
    "Step 2. Create a series of three if statements to determine if the member’s total portfolio is large enough to fund the emergency portfolio:\n",
    "\n",
    "* If the total portfolio value is greater than the emergency fund value, display a message congratulating the member for having enough money in this fund.\n",
    "\n",
    "* Else if the total portfolio value is equal to the emergency fund value, display a message congratulating the member on reaching this important financial goal.\n",
    "\n",
    "* Else the total portfolio is less than the emergency fund value, so display a message showing how many dollars away the member is from reaching the goal. (Subtract the total portfolio value from the emergency fund value.)\n"
   ]
  },
  {
   "cell_type": "markdown",
   "metadata": {},
   "source": [
    "##### Step 4-1: Create a variable named `emergency_fund_value`, and set it equal to three times the value of the member’s `monthly_income` of 12000. (You set this earlier in Part 1)."
   ]
  },
  {
   "cell_type": "code",
   "execution_count": 26,
   "metadata": {},
   "outputs": [],
   "source": [
    "# Create a variable named emergency_fund_value\n",
    "emergency_fund_value = monthly_income * 3"
   ]
  },
  {
   "cell_type": "markdown",
   "metadata": {},
   "source": [
    "##### Step 4-2: Create a series of three if statements to determine if the member’s total portfolio is large enough to fund the emergency portfolio:\n",
    "\n",
    "* If the total portfolio value is greater than the emergency fund value, display a message congratulating the member for having enough money in this fund.\n",
    "\n",
    "* Else if the total portfolio value is equal to the emergency fund value, display a message congratulating the member on reaching this important financial goal.\n",
    "\n",
    "* Else the total portfolio is less than the emergency fund value, so display a message showing how many dollars away the member is from reaching the goal. (Subtract the total portfolio value from the emergency fund value.)"
   ]
  },
  {
   "cell_type": "code",
   "execution_count": 39,
   "metadata": {},
   "outputs": [
    {
     "name": "stdout",
     "output_type": "stream",
     "text": [
      "Congratulations member for having enough money in this fund.\n"
     ]
    }
   ],
   "source": [
    "# Evaluate the possibility of creating an emergency fund with 3 conditions:\n",
    "if  total_portfolio > emergency_fund_value:\n",
    "    print(\"Congratulations member for having enough money in this fund.\")\n",
    "\n",
    "elif  total_portfolio == emergency_fund_value:\n",
    "    print(\"Congratulations on having exactly enough to cover your emergency fund.\")\n",
    "\n",
    "else:\n",
    "    print(f\"You are {emergency_fund_value-total_portfolio} from having enough to fund the emergency account.\")"
   ]
  },
  {
   "cell_type": "markdown",
   "metadata": {},
   "source": [
    "## Part 2: Create a Financial Planner for Retirement"
   ]
  },
  {
   "cell_type": "markdown",
   "metadata": {},
   "source": [
    "#### Step 1: Make an API call via the Alpaca SDK to get 10 years of historical closing prices for a traditional 60/40 portfolio split: 60% stocks (SPY) and 40% bonds (AGG)."
   ]
  },
  {
   "cell_type": "markdown",
   "metadata": {},
   "source": [
    "### Create the Monte Carlo Simulation\n",
    "\n",
    "In this section, you’ll use the MCForecastTools library to create a Monte Carlo simulation for the member’s savings portfolio. To do this, complete the following steps:\n",
    "\n",
    "1. Make an API call via the Alpaca SDK to get 10 years of historical closing prices for a traditional 60/40 portfolio split: 60% stocks (SPY) and 40% bonds (AGG).\n",
    "\n",
    "2. Run a Monte Carlo simulation of 500 samples and 30 years for the 60/40 portfolio, and then plot the results.The following image shows the overlay line plot resulting from a simulation with these characteristics. However, because a random number generator is used to run each live Monte Carlo simulation, your image will differ slightly from this exact image:\n",
    "\n",
    "![A screenshot depicts the resulting plot.](Images/5-4-monte-carlo-line-plot.png)\n",
    "\n",
    "3. Plot the probability distribution of the Monte Carlo simulation. The following image shows the histogram plot resulting from a simulation with these characteristics. However, because a random number generator is used to run each live Monte Carlo simulation, your image will differ slightly from this exact image:\n",
    "\n",
    "![A screenshot depicts the histogram plot.](Images/5-4-monte-carlo-histogram.png)\n",
    "\n",
    "4. Generate the summary statistics for the Monte Carlo simulation.\n",
    "\n"
   ]
  },
  {
   "cell_type": "code",
   "execution_count": 74,
   "metadata": {},
   "outputs": [],
   "source": [
    "# Set start and end dates of 10 years back from your current date\n",
    "# Alternatively, you can use an end date of 2020-08-07 and work 10 years back from that date \n",
    "# start_date = \"2010-08-07\"\n",
    "# end_date = \"2020-08-07\"\n",
    "\n",
    "start_date = pd.Timestamp(\"2010-08-07\", tz=\"America/New_York\").isoformat()\n",
    "end_date = pd.Timestamp(\"2020-08-07\", tz=\"America/New_York\").isoformat()"
   ]
  },
  {
   "cell_type": "code",
   "execution_count": 75,
   "metadata": {},
   "outputs": [
    {
     "data": {
      "text/html": [
       "<div>\n",
       "<style scoped>\n",
       "    .dataframe tbody tr th:only-of-type {\n",
       "        vertical-align: middle;\n",
       "    }\n",
       "\n",
       "    .dataframe tbody tr th {\n",
       "        vertical-align: top;\n",
       "    }\n",
       "\n",
       "    .dataframe thead tr th {\n",
       "        text-align: left;\n",
       "    }\n",
       "\n",
       "    .dataframe thead tr:last-of-type th {\n",
       "        text-align: right;\n",
       "    }\n",
       "</style>\n",
       "<table border=\"1\" class=\"dataframe\">\n",
       "  <thead>\n",
       "    <tr>\n",
       "      <th></th>\n",
       "      <th colspan=\"5\" halign=\"left\">AGG</th>\n",
       "      <th colspan=\"5\" halign=\"left\">SPY</th>\n",
       "    </tr>\n",
       "    <tr>\n",
       "      <th></th>\n",
       "      <th>open</th>\n",
       "      <th>high</th>\n",
       "      <th>low</th>\n",
       "      <th>close</th>\n",
       "      <th>volume</th>\n",
       "      <th>open</th>\n",
       "      <th>high</th>\n",
       "      <th>low</th>\n",
       "      <th>close</th>\n",
       "      <th>volume</th>\n",
       "    </tr>\n",
       "    <tr>\n",
       "      <th>time</th>\n",
       "      <th></th>\n",
       "      <th></th>\n",
       "      <th></th>\n",
       "      <th></th>\n",
       "      <th></th>\n",
       "      <th></th>\n",
       "      <th></th>\n",
       "      <th></th>\n",
       "      <th></th>\n",
       "      <th></th>\n",
       "    </tr>\n",
       "  </thead>\n",
       "  <tbody>\n",
       "    <tr>\n",
       "      <th>2020-03-18 00:00:00-04:00</th>\n",
       "      <td>109.36</td>\n",
       "      <td>110.5700</td>\n",
       "      <td>105.7707</td>\n",
       "      <td>106.33</td>\n",
       "      <td>30117292</td>\n",
       "      <td>236.25</td>\n",
       "      <td>248.3700</td>\n",
       "      <td>228.02</td>\n",
       "      <td>241.01</td>\n",
       "      <td>298252778</td>\n",
       "    </tr>\n",
       "    <tr>\n",
       "      <th>2020-03-19 00:00:00-04:00</th>\n",
       "      <td>106.47</td>\n",
       "      <td>109.2200</td>\n",
       "      <td>105.5600</td>\n",
       "      <td>108.97</td>\n",
       "      <td>21031320</td>\n",
       "      <td>239.25</td>\n",
       "      <td>247.3800</td>\n",
       "      <td>232.22</td>\n",
       "      <td>241.16</td>\n",
       "      <td>261233795</td>\n",
       "    </tr>\n",
       "    <tr>\n",
       "      <th>2020-03-20 00:00:00-04:00</th>\n",
       "      <td>108.46</td>\n",
       "      <td>110.2399</td>\n",
       "      <td>108.4600</td>\n",
       "      <td>109.49</td>\n",
       "      <td>28449412</td>\n",
       "      <td>242.53</td>\n",
       "      <td>244.4700</td>\n",
       "      <td>228.50</td>\n",
       "      <td>228.94</td>\n",
       "      <td>302880969</td>\n",
       "    </tr>\n",
       "    <tr>\n",
       "      <th>2020-03-23 00:00:00-04:00</th>\n",
       "      <td>109.90</td>\n",
       "      <td>112.9400</td>\n",
       "      <td>109.0000</td>\n",
       "      <td>112.55</td>\n",
       "      <td>23873510</td>\n",
       "      <td>228.19</td>\n",
       "      <td>229.6833</td>\n",
       "      <td>218.26</td>\n",
       "      <td>222.51</td>\n",
       "      <td>280560712</td>\n",
       "    </tr>\n",
       "    <tr>\n",
       "      <th>2020-03-24 00:00:00-04:00</th>\n",
       "      <td>111.52</td>\n",
       "      <td>113.5000</td>\n",
       "      <td>111.0754</td>\n",
       "      <td>113.29</td>\n",
       "      <td>18141498</td>\n",
       "      <td>234.42</td>\n",
       "      <td>244.1000</td>\n",
       "      <td>233.80</td>\n",
       "      <td>243.59</td>\n",
       "      <td>211595249</td>\n",
       "    </tr>\n",
       "  </tbody>\n",
       "</table>\n",
       "</div>"
      ],
      "text/plain": [
       "                              AGG                                        \\\n",
       "                             open      high       low   close    volume   \n",
       "time                                                                      \n",
       "2020-03-18 00:00:00-04:00  109.36  110.5700  105.7707  106.33  30117292   \n",
       "2020-03-19 00:00:00-04:00  106.47  109.2200  105.5600  108.97  21031320   \n",
       "2020-03-20 00:00:00-04:00  108.46  110.2399  108.4600  109.49  28449412   \n",
       "2020-03-23 00:00:00-04:00  109.90  112.9400  109.0000  112.55  23873510   \n",
       "2020-03-24 00:00:00-04:00  111.52  113.5000  111.0754  113.29  18141498   \n",
       "\n",
       "                              SPY                                       \n",
       "                             open      high     low   close     volume  \n",
       "time                                                                    \n",
       "2020-03-18 00:00:00-04:00  236.25  248.3700  228.02  241.01  298252778  \n",
       "2020-03-19 00:00:00-04:00  239.25  247.3800  232.22  241.16  261233795  \n",
       "2020-03-20 00:00:00-04:00  242.53  244.4700  228.50  228.94  302880969  \n",
       "2020-03-23 00:00:00-04:00  228.19  229.6833  218.26  222.51  280560712  \n",
       "2020-03-24 00:00:00-04:00  234.42  244.1000  233.80  243.59  211595249  "
      ]
     },
     "execution_count": 75,
     "metadata": {},
     "output_type": "execute_result"
    }
   ],
   "source": [
    "# Use the Alpaca get_barset function to make the API call to get the 10 years worth of pricing data\n",
    "# The tickers and timeframe parameters should have been set in Part 1 of this activity \n",
    "# The start and end dates should be updated with the information set above\n",
    "# Remember to add the df property to the end of the call so the response is returned as a DataFrame\n",
    "\n",
    "ticker_data = api.get_barset(\n",
    "    tickers,\n",
    "    timeframe,\n",
    "    start=start_date,\n",
    "    end=end_date\n",
    ").df\n",
    "\n",
    "# Display both the first and last five rows of the DataFrame\n",
    "ticker_data.head()"
   ]
  },
  {
   "cell_type": "markdown",
   "metadata": {},
   "source": [
    "#### Step 2: Run a Monte Carlo simulation of 500 samples and 30 years for the 60/40 portfolio, and then plot the results."
   ]
  },
  {
   "cell_type": "code",
   "execution_count": 51,
   "metadata": {},
   "outputs": [
    {
     "data": {
      "text/html": [
       "<div>\n",
       "<style scoped>\n",
       "    .dataframe tbody tr th:only-of-type {\n",
       "        vertical-align: middle;\n",
       "    }\n",
       "\n",
       "    .dataframe tbody tr th {\n",
       "        vertical-align: top;\n",
       "    }\n",
       "\n",
       "    .dataframe thead tr th {\n",
       "        text-align: left;\n",
       "    }\n",
       "\n",
       "    .dataframe thead tr:last-of-type th {\n",
       "        text-align: right;\n",
       "    }\n",
       "</style>\n",
       "<table border=\"1\" class=\"dataframe\">\n",
       "  <thead>\n",
       "    <tr>\n",
       "      <th></th>\n",
       "      <th colspan=\"6\" halign=\"left\">AGG</th>\n",
       "      <th colspan=\"6\" halign=\"left\">SPY</th>\n",
       "    </tr>\n",
       "    <tr>\n",
       "      <th></th>\n",
       "      <th>open</th>\n",
       "      <th>high</th>\n",
       "      <th>low</th>\n",
       "      <th>close</th>\n",
       "      <th>volume</th>\n",
       "      <th>daily_return</th>\n",
       "      <th>open</th>\n",
       "      <th>high</th>\n",
       "      <th>low</th>\n",
       "      <th>close</th>\n",
       "      <th>volume</th>\n",
       "      <th>daily_return</th>\n",
       "    </tr>\n",
       "    <tr>\n",
       "      <th>time</th>\n",
       "      <th></th>\n",
       "      <th></th>\n",
       "      <th></th>\n",
       "      <th></th>\n",
       "      <th></th>\n",
       "      <th></th>\n",
       "      <th></th>\n",
       "      <th></th>\n",
       "      <th></th>\n",
       "      <th></th>\n",
       "      <th></th>\n",
       "      <th></th>\n",
       "    </tr>\n",
       "  </thead>\n",
       "  <tbody>\n",
       "    <tr>\n",
       "      <th>2020-03-18 00:00:00-04:00</th>\n",
       "      <td>109.36</td>\n",
       "      <td>110.5700</td>\n",
       "      <td>105.7707</td>\n",
       "      <td>106.33</td>\n",
       "      <td>30117292</td>\n",
       "      <td>NaN</td>\n",
       "      <td>236.25</td>\n",
       "      <td>248.3700</td>\n",
       "      <td>228.02</td>\n",
       "      <td>241.01</td>\n",
       "      <td>298252778</td>\n",
       "      <td>NaN</td>\n",
       "    </tr>\n",
       "    <tr>\n",
       "      <th>2020-03-19 00:00:00-04:00</th>\n",
       "      <td>106.47</td>\n",
       "      <td>109.2200</td>\n",
       "      <td>105.5600</td>\n",
       "      <td>108.97</td>\n",
       "      <td>21031320</td>\n",
       "      <td>0.024828</td>\n",
       "      <td>239.25</td>\n",
       "      <td>247.3800</td>\n",
       "      <td>232.22</td>\n",
       "      <td>241.16</td>\n",
       "      <td>261233795</td>\n",
       "      <td>0.000622</td>\n",
       "    </tr>\n",
       "    <tr>\n",
       "      <th>2020-03-20 00:00:00-04:00</th>\n",
       "      <td>108.46</td>\n",
       "      <td>110.2399</td>\n",
       "      <td>108.4600</td>\n",
       "      <td>109.49</td>\n",
       "      <td>28449412</td>\n",
       "      <td>0.004772</td>\n",
       "      <td>242.53</td>\n",
       "      <td>244.4700</td>\n",
       "      <td>228.50</td>\n",
       "      <td>228.94</td>\n",
       "      <td>302880969</td>\n",
       "      <td>-0.050672</td>\n",
       "    </tr>\n",
       "    <tr>\n",
       "      <th>2020-03-23 00:00:00-04:00</th>\n",
       "      <td>109.90</td>\n",
       "      <td>112.9400</td>\n",
       "      <td>109.0000</td>\n",
       "      <td>112.55</td>\n",
       "      <td>23873510</td>\n",
       "      <td>0.027948</td>\n",
       "      <td>228.19</td>\n",
       "      <td>229.6833</td>\n",
       "      <td>218.26</td>\n",
       "      <td>222.51</td>\n",
       "      <td>280560712</td>\n",
       "      <td>-0.028086</td>\n",
       "    </tr>\n",
       "    <tr>\n",
       "      <th>2020-03-24 00:00:00-04:00</th>\n",
       "      <td>111.52</td>\n",
       "      <td>113.5000</td>\n",
       "      <td>111.0754</td>\n",
       "      <td>113.29</td>\n",
       "      <td>18141498</td>\n",
       "      <td>0.006575</td>\n",
       "      <td>234.42</td>\n",
       "      <td>244.1000</td>\n",
       "      <td>233.80</td>\n",
       "      <td>243.59</td>\n",
       "      <td>211595249</td>\n",
       "      <td>0.094737</td>\n",
       "    </tr>\n",
       "  </tbody>\n",
       "</table>\n",
       "</div>"
      ],
      "text/plain": [
       "                              AGG                                        \\\n",
       "                             open      high       low   close    volume   \n",
       "time                                                                      \n",
       "2020-03-18 00:00:00-04:00  109.36  110.5700  105.7707  106.33  30117292   \n",
       "2020-03-19 00:00:00-04:00  106.47  109.2200  105.5600  108.97  21031320   \n",
       "2020-03-20 00:00:00-04:00  108.46  110.2399  108.4600  109.49  28449412   \n",
       "2020-03-23 00:00:00-04:00  109.90  112.9400  109.0000  112.55  23873510   \n",
       "2020-03-24 00:00:00-04:00  111.52  113.5000  111.0754  113.29  18141498   \n",
       "\n",
       "                                           SPY                            \\\n",
       "                          daily_return    open      high     low   close   \n",
       "time                                                                       \n",
       "2020-03-18 00:00:00-04:00          NaN  236.25  248.3700  228.02  241.01   \n",
       "2020-03-19 00:00:00-04:00     0.024828  239.25  247.3800  232.22  241.16   \n",
       "2020-03-20 00:00:00-04:00     0.004772  242.53  244.4700  228.50  228.94   \n",
       "2020-03-23 00:00:00-04:00     0.027948  228.19  229.6833  218.26  222.51   \n",
       "2020-03-24 00:00:00-04:00     0.006575  234.42  244.1000  233.80  243.59   \n",
       "\n",
       "                                                   \n",
       "                              volume daily_return  \n",
       "time                                               \n",
       "2020-03-18 00:00:00-04:00  298252778          NaN  \n",
       "2020-03-19 00:00:00-04:00  261233795     0.000622  \n",
       "2020-03-20 00:00:00-04:00  302880969    -0.050672  \n",
       "2020-03-23 00:00:00-04:00  280560712    -0.028086  \n",
       "2020-03-24 00:00:00-04:00  211595249     0.094737  "
      ]
     },
     "execution_count": 51,
     "metadata": {},
     "output_type": "execute_result"
    }
   ],
   "source": [
    "# Configure the Monte Carlo simulation to forecast 30 years cumulative returns\n",
    "# The weights should be split 40% to AGG and 60% to SPY.\n",
    "# Run 500 samples.\n",
    "MC_thirty_years = MCSimulation(\n",
    "portfolio_data = ticker_data,\n",
    "weights=[.40, .60],\n",
    "num_simulation=500,\n",
    "num_trading_days=252*30)\n",
    "\n",
    "# Review the simulation input data\n",
    "MC_thirty_years.portfolio_data.head()"
   ]
  },
  {
   "cell_type": "code",
   "execution_count": 52,
   "metadata": {},
   "outputs": [
    {
     "name": "stdout",
     "output_type": "stream",
     "text": [
      "Running Monte Carlo simulation number 0.\n",
      "Running Monte Carlo simulation number 10.\n",
      "Running Monte Carlo simulation number 20.\n",
      "Running Monte Carlo simulation number 30.\n",
      "Running Monte Carlo simulation number 40.\n",
      "Running Monte Carlo simulation number 50.\n",
      "Running Monte Carlo simulation number 60.\n",
      "Running Monte Carlo simulation number 70.\n",
      "Running Monte Carlo simulation number 80.\n",
      "Running Monte Carlo simulation number 90.\n",
      "Running Monte Carlo simulation number 100.\n",
      "Running Monte Carlo simulation number 110.\n",
      "Running Monte Carlo simulation number 120.\n",
      "Running Monte Carlo simulation number 130.\n",
      "Running Monte Carlo simulation number 140.\n",
      "Running Monte Carlo simulation number 150.\n",
      "Running Monte Carlo simulation number 160.\n",
      "Running Monte Carlo simulation number 170.\n",
      "Running Monte Carlo simulation number 180.\n",
      "Running Monte Carlo simulation number 190.\n",
      "Running Monte Carlo simulation number 200.\n",
      "Running Monte Carlo simulation number 210.\n",
      "Running Monte Carlo simulation number 220.\n",
      "Running Monte Carlo simulation number 230.\n",
      "Running Monte Carlo simulation number 240.\n",
      "Running Monte Carlo simulation number 250.\n",
      "Running Monte Carlo simulation number 260.\n",
      "Running Monte Carlo simulation number 270.\n",
      "Running Monte Carlo simulation number 280.\n",
      "Running Monte Carlo simulation number 290.\n",
      "Running Monte Carlo simulation number 300.\n",
      "Running Monte Carlo simulation number 310.\n",
      "Running Monte Carlo simulation number 320.\n",
      "Running Monte Carlo simulation number 330.\n",
      "Running Monte Carlo simulation number 340.\n",
      "Running Monte Carlo simulation number 350.\n",
      "Running Monte Carlo simulation number 360.\n",
      "Running Monte Carlo simulation number 370.\n",
      "Running Monte Carlo simulation number 380.\n",
      "Running Monte Carlo simulation number 390.\n",
      "Running Monte Carlo simulation number 400.\n",
      "Running Monte Carlo simulation number 410.\n",
      "Running Monte Carlo simulation number 420.\n",
      "Running Monte Carlo simulation number 430.\n",
      "Running Monte Carlo simulation number 440.\n",
      "Running Monte Carlo simulation number 450.\n",
      "Running Monte Carlo simulation number 460.\n",
      "Running Monte Carlo simulation number 470.\n",
      "Running Monte Carlo simulation number 480.\n",
      "Running Monte Carlo simulation number 490.\n"
     ]
    },
    {
     "data": {
      "text/html": [
       "<div>\n",
       "<style scoped>\n",
       "    .dataframe tbody tr th:only-of-type {\n",
       "        vertical-align: middle;\n",
       "    }\n",
       "\n",
       "    .dataframe tbody tr th {\n",
       "        vertical-align: top;\n",
       "    }\n",
       "\n",
       "    .dataframe thead th {\n",
       "        text-align: right;\n",
       "    }\n",
       "</style>\n",
       "<table border=\"1\" class=\"dataframe\">\n",
       "  <thead>\n",
       "    <tr style=\"text-align: right;\">\n",
       "      <th></th>\n",
       "      <th>0</th>\n",
       "      <th>1</th>\n",
       "      <th>2</th>\n",
       "      <th>3</th>\n",
       "      <th>4</th>\n",
       "      <th>5</th>\n",
       "      <th>6</th>\n",
       "      <th>7</th>\n",
       "      <th>8</th>\n",
       "      <th>9</th>\n",
       "      <th>...</th>\n",
       "      <th>490</th>\n",
       "      <th>491</th>\n",
       "      <th>492</th>\n",
       "      <th>493</th>\n",
       "      <th>494</th>\n",
       "      <th>495</th>\n",
       "      <th>496</th>\n",
       "      <th>497</th>\n",
       "      <th>498</th>\n",
       "      <th>499</th>\n",
       "    </tr>\n",
       "  </thead>\n",
       "  <tbody>\n",
       "    <tr>\n",
       "      <th>0</th>\n",
       "      <td>1.000000e+00</td>\n",
       "      <td>1.000000e+00</td>\n",
       "      <td>1.000000e+00</td>\n",
       "      <td>1.000000e+00</td>\n",
       "      <td>1.000000e+00</td>\n",
       "      <td>1.000000e+00</td>\n",
       "      <td>1.000000e+00</td>\n",
       "      <td>1.000000e+00</td>\n",
       "      <td>1.000000e+00</td>\n",
       "      <td>1.000000e+00</td>\n",
       "      <td>...</td>\n",
       "      <td>1.000000e+00</td>\n",
       "      <td>1.000000e+00</td>\n",
       "      <td>1.000000e+00</td>\n",
       "      <td>1.000000e+00</td>\n",
       "      <td>1.000000e+00</td>\n",
       "      <td>1.000000e+00</td>\n",
       "      <td>1.000000e+00</td>\n",
       "      <td>1.000000e+00</td>\n",
       "      <td>1.000000e+00</td>\n",
       "      <td>1.000000e+00</td>\n",
       "    </tr>\n",
       "    <tr>\n",
       "      <th>1</th>\n",
       "      <td>1.012862e+00</td>\n",
       "      <td>9.984193e-01</td>\n",
       "      <td>9.990181e-01</td>\n",
       "      <td>9.876732e-01</td>\n",
       "      <td>1.008926e+00</td>\n",
       "      <td>9.974204e-01</td>\n",
       "      <td>9.951129e-01</td>\n",
       "      <td>1.039334e+00</td>\n",
       "      <td>9.866583e-01</td>\n",
       "      <td>9.947245e-01</td>\n",
       "      <td>...</td>\n",
       "      <td>1.011785e+00</td>\n",
       "      <td>9.965141e-01</td>\n",
       "      <td>1.007572e+00</td>\n",
       "      <td>1.035166e+00</td>\n",
       "      <td>9.946411e-01</td>\n",
       "      <td>1.028171e+00</td>\n",
       "      <td>1.015241e+00</td>\n",
       "      <td>1.017699e+00</td>\n",
       "      <td>9.991463e-01</td>\n",
       "      <td>9.676998e-01</td>\n",
       "    </tr>\n",
       "    <tr>\n",
       "      <th>2</th>\n",
       "      <td>1.010291e+00</td>\n",
       "      <td>9.924647e-01</td>\n",
       "      <td>1.000207e+00</td>\n",
       "      <td>9.804401e-01</td>\n",
       "      <td>1.023131e+00</td>\n",
       "      <td>1.008508e+00</td>\n",
       "      <td>9.898005e-01</td>\n",
       "      <td>1.040935e+00</td>\n",
       "      <td>9.732751e-01</td>\n",
       "      <td>9.906929e-01</td>\n",
       "      <td>...</td>\n",
       "      <td>1.024662e+00</td>\n",
       "      <td>1.000300e+00</td>\n",
       "      <td>1.030135e+00</td>\n",
       "      <td>1.034917e+00</td>\n",
       "      <td>1.005591e+00</td>\n",
       "      <td>1.005788e+00</td>\n",
       "      <td>1.019953e+00</td>\n",
       "      <td>1.037982e+00</td>\n",
       "      <td>9.980119e-01</td>\n",
       "      <td>9.916829e-01</td>\n",
       "    </tr>\n",
       "    <tr>\n",
       "      <th>3</th>\n",
       "      <td>1.009859e+00</td>\n",
       "      <td>9.945560e-01</td>\n",
       "      <td>1.016784e+00</td>\n",
       "      <td>1.000143e+00</td>\n",
       "      <td>1.021302e+00</td>\n",
       "      <td>1.032502e+00</td>\n",
       "      <td>1.008214e+00</td>\n",
       "      <td>1.027105e+00</td>\n",
       "      <td>9.312670e-01</td>\n",
       "      <td>9.803294e-01</td>\n",
       "      <td>...</td>\n",
       "      <td>1.025468e+00</td>\n",
       "      <td>1.003871e+00</td>\n",
       "      <td>1.012743e+00</td>\n",
       "      <td>1.042484e+00</td>\n",
       "      <td>9.936636e-01</td>\n",
       "      <td>1.007852e+00</td>\n",
       "      <td>1.011485e+00</td>\n",
       "      <td>1.028136e+00</td>\n",
       "      <td>1.022385e+00</td>\n",
       "      <td>9.903295e-01</td>\n",
       "    </tr>\n",
       "    <tr>\n",
       "      <th>4</th>\n",
       "      <td>1.025209e+00</td>\n",
       "      <td>1.010096e+00</td>\n",
       "      <td>1.007342e+00</td>\n",
       "      <td>1.034541e+00</td>\n",
       "      <td>1.019534e+00</td>\n",
       "      <td>1.037706e+00</td>\n",
       "      <td>1.028546e+00</td>\n",
       "      <td>1.044773e+00</td>\n",
       "      <td>9.320925e-01</td>\n",
       "      <td>9.856357e-01</td>\n",
       "      <td>...</td>\n",
       "      <td>1.000623e+00</td>\n",
       "      <td>9.811210e-01</td>\n",
       "      <td>1.032966e+00</td>\n",
       "      <td>1.069089e+00</td>\n",
       "      <td>1.014088e+00</td>\n",
       "      <td>9.928635e-01</td>\n",
       "      <td>9.985633e-01</td>\n",
       "      <td>1.041991e+00</td>\n",
       "      <td>1.028121e+00</td>\n",
       "      <td>9.942576e-01</td>\n",
       "    </tr>\n",
       "    <tr>\n",
       "      <th>...</th>\n",
       "      <td>...</td>\n",
       "      <td>...</td>\n",
       "      <td>...</td>\n",
       "      <td>...</td>\n",
       "      <td>...</td>\n",
       "      <td>...</td>\n",
       "      <td>...</td>\n",
       "      <td>...</td>\n",
       "      <td>...</td>\n",
       "      <td>...</td>\n",
       "      <td>...</td>\n",
       "      <td>...</td>\n",
       "      <td>...</td>\n",
       "      <td>...</td>\n",
       "      <td>...</td>\n",
       "      <td>...</td>\n",
       "      <td>...</td>\n",
       "      <td>...</td>\n",
       "      <td>...</td>\n",
       "      <td>...</td>\n",
       "      <td>...</td>\n",
       "    </tr>\n",
       "    <tr>\n",
       "      <th>7556</th>\n",
       "      <td>2.618727e+08</td>\n",
       "      <td>1.983879e+08</td>\n",
       "      <td>1.616673e+08</td>\n",
       "      <td>9.094769e+07</td>\n",
       "      <td>6.207836e+07</td>\n",
       "      <td>2.006007e+07</td>\n",
       "      <td>3.741488e+07</td>\n",
       "      <td>9.022348e+07</td>\n",
       "      <td>1.323977e+09</td>\n",
       "      <td>2.876427e+08</td>\n",
       "      <td>...</td>\n",
       "      <td>1.513082e+08</td>\n",
       "      <td>4.771728e+08</td>\n",
       "      <td>6.481077e+08</td>\n",
       "      <td>2.409110e+07</td>\n",
       "      <td>2.849670e+08</td>\n",
       "      <td>5.995903e+07</td>\n",
       "      <td>1.360336e+08</td>\n",
       "      <td>1.013590e+08</td>\n",
       "      <td>7.443177e+07</td>\n",
       "      <td>2.938923e+08</td>\n",
       "    </tr>\n",
       "    <tr>\n",
       "      <th>7557</th>\n",
       "      <td>2.680153e+08</td>\n",
       "      <td>2.028932e+08</td>\n",
       "      <td>1.636634e+08</td>\n",
       "      <td>9.145251e+07</td>\n",
       "      <td>6.162052e+07</td>\n",
       "      <td>1.982876e+07</td>\n",
       "      <td>3.790844e+07</td>\n",
       "      <td>9.005634e+07</td>\n",
       "      <td>1.300965e+09</td>\n",
       "      <td>2.904160e+08</td>\n",
       "      <td>...</td>\n",
       "      <td>1.504865e+08</td>\n",
       "      <td>4.728903e+08</td>\n",
       "      <td>6.350604e+08</td>\n",
       "      <td>2.434868e+07</td>\n",
       "      <td>2.823061e+08</td>\n",
       "      <td>6.072198e+07</td>\n",
       "      <td>1.350828e+08</td>\n",
       "      <td>1.029247e+08</td>\n",
       "      <td>7.425182e+07</td>\n",
       "      <td>2.939346e+08</td>\n",
       "    </tr>\n",
       "    <tr>\n",
       "      <th>7558</th>\n",
       "      <td>2.724516e+08</td>\n",
       "      <td>2.039327e+08</td>\n",
       "      <td>1.654576e+08</td>\n",
       "      <td>8.967256e+07</td>\n",
       "      <td>6.276564e+07</td>\n",
       "      <td>2.012610e+07</td>\n",
       "      <td>3.800073e+07</td>\n",
       "      <td>9.111998e+07</td>\n",
       "      <td>1.323781e+09</td>\n",
       "      <td>2.902531e+08</td>\n",
       "      <td>...</td>\n",
       "      <td>1.503322e+08</td>\n",
       "      <td>4.733834e+08</td>\n",
       "      <td>6.395132e+08</td>\n",
       "      <td>2.478352e+07</td>\n",
       "      <td>2.792973e+08</td>\n",
       "      <td>6.081826e+07</td>\n",
       "      <td>1.325228e+08</td>\n",
       "      <td>1.034070e+08</td>\n",
       "      <td>7.405331e+07</td>\n",
       "      <td>3.004140e+08</td>\n",
       "    </tr>\n",
       "    <tr>\n",
       "      <th>7559</th>\n",
       "      <td>2.722311e+08</td>\n",
       "      <td>2.039648e+08</td>\n",
       "      <td>1.683757e+08</td>\n",
       "      <td>8.976683e+07</td>\n",
       "      <td>6.235380e+07</td>\n",
       "      <td>1.990175e+07</td>\n",
       "      <td>3.823056e+07</td>\n",
       "      <td>9.096809e+07</td>\n",
       "      <td>1.320128e+09</td>\n",
       "      <td>2.953403e+08</td>\n",
       "      <td>...</td>\n",
       "      <td>1.541795e+08</td>\n",
       "      <td>4.660839e+08</td>\n",
       "      <td>6.168074e+08</td>\n",
       "      <td>2.545240e+07</td>\n",
       "      <td>2.853136e+08</td>\n",
       "      <td>6.220224e+07</td>\n",
       "      <td>1.318800e+08</td>\n",
       "      <td>1.036159e+08</td>\n",
       "      <td>7.354302e+07</td>\n",
       "      <td>3.018978e+08</td>\n",
       "    </tr>\n",
       "    <tr>\n",
       "      <th>7560</th>\n",
       "      <td>2.730460e+08</td>\n",
       "      <td>2.069158e+08</td>\n",
       "      <td>1.709862e+08</td>\n",
       "      <td>8.940057e+07</td>\n",
       "      <td>6.347586e+07</td>\n",
       "      <td>1.974135e+07</td>\n",
       "      <td>3.778141e+07</td>\n",
       "      <td>9.066509e+07</td>\n",
       "      <td>1.354975e+09</td>\n",
       "      <td>2.975174e+08</td>\n",
       "      <td>...</td>\n",
       "      <td>1.564755e+08</td>\n",
       "      <td>4.596774e+08</td>\n",
       "      <td>6.155481e+08</td>\n",
       "      <td>2.536251e+07</td>\n",
       "      <td>2.933273e+08</td>\n",
       "      <td>6.497001e+07</td>\n",
       "      <td>1.332320e+08</td>\n",
       "      <td>1.046684e+08</td>\n",
       "      <td>7.210612e+07</td>\n",
       "      <td>2.978445e+08</td>\n",
       "    </tr>\n",
       "  </tbody>\n",
       "</table>\n",
       "<p>7561 rows × 500 columns</p>\n",
       "</div>"
      ],
      "text/plain": [
       "               0             1             2             3             4    \\\n",
       "0     1.000000e+00  1.000000e+00  1.000000e+00  1.000000e+00  1.000000e+00   \n",
       "1     1.012862e+00  9.984193e-01  9.990181e-01  9.876732e-01  1.008926e+00   \n",
       "2     1.010291e+00  9.924647e-01  1.000207e+00  9.804401e-01  1.023131e+00   \n",
       "3     1.009859e+00  9.945560e-01  1.016784e+00  1.000143e+00  1.021302e+00   \n",
       "4     1.025209e+00  1.010096e+00  1.007342e+00  1.034541e+00  1.019534e+00   \n",
       "...            ...           ...           ...           ...           ...   \n",
       "7556  2.618727e+08  1.983879e+08  1.616673e+08  9.094769e+07  6.207836e+07   \n",
       "7557  2.680153e+08  2.028932e+08  1.636634e+08  9.145251e+07  6.162052e+07   \n",
       "7558  2.724516e+08  2.039327e+08  1.654576e+08  8.967256e+07  6.276564e+07   \n",
       "7559  2.722311e+08  2.039648e+08  1.683757e+08  8.976683e+07  6.235380e+07   \n",
       "7560  2.730460e+08  2.069158e+08  1.709862e+08  8.940057e+07  6.347586e+07   \n",
       "\n",
       "               5             6             7             8             9    \\\n",
       "0     1.000000e+00  1.000000e+00  1.000000e+00  1.000000e+00  1.000000e+00   \n",
       "1     9.974204e-01  9.951129e-01  1.039334e+00  9.866583e-01  9.947245e-01   \n",
       "2     1.008508e+00  9.898005e-01  1.040935e+00  9.732751e-01  9.906929e-01   \n",
       "3     1.032502e+00  1.008214e+00  1.027105e+00  9.312670e-01  9.803294e-01   \n",
       "4     1.037706e+00  1.028546e+00  1.044773e+00  9.320925e-01  9.856357e-01   \n",
       "...            ...           ...           ...           ...           ...   \n",
       "7556  2.006007e+07  3.741488e+07  9.022348e+07  1.323977e+09  2.876427e+08   \n",
       "7557  1.982876e+07  3.790844e+07  9.005634e+07  1.300965e+09  2.904160e+08   \n",
       "7558  2.012610e+07  3.800073e+07  9.111998e+07  1.323781e+09  2.902531e+08   \n",
       "7559  1.990175e+07  3.823056e+07  9.096809e+07  1.320128e+09  2.953403e+08   \n",
       "7560  1.974135e+07  3.778141e+07  9.066509e+07  1.354975e+09  2.975174e+08   \n",
       "\n",
       "      ...           490           491           492           493  \\\n",
       "0     ...  1.000000e+00  1.000000e+00  1.000000e+00  1.000000e+00   \n",
       "1     ...  1.011785e+00  9.965141e-01  1.007572e+00  1.035166e+00   \n",
       "2     ...  1.024662e+00  1.000300e+00  1.030135e+00  1.034917e+00   \n",
       "3     ...  1.025468e+00  1.003871e+00  1.012743e+00  1.042484e+00   \n",
       "4     ...  1.000623e+00  9.811210e-01  1.032966e+00  1.069089e+00   \n",
       "...   ...           ...           ...           ...           ...   \n",
       "7556  ...  1.513082e+08  4.771728e+08  6.481077e+08  2.409110e+07   \n",
       "7557  ...  1.504865e+08  4.728903e+08  6.350604e+08  2.434868e+07   \n",
       "7558  ...  1.503322e+08  4.733834e+08  6.395132e+08  2.478352e+07   \n",
       "7559  ...  1.541795e+08  4.660839e+08  6.168074e+08  2.545240e+07   \n",
       "7560  ...  1.564755e+08  4.596774e+08  6.155481e+08  2.536251e+07   \n",
       "\n",
       "               494           495           496           497           498  \\\n",
       "0     1.000000e+00  1.000000e+00  1.000000e+00  1.000000e+00  1.000000e+00   \n",
       "1     9.946411e-01  1.028171e+00  1.015241e+00  1.017699e+00  9.991463e-01   \n",
       "2     1.005591e+00  1.005788e+00  1.019953e+00  1.037982e+00  9.980119e-01   \n",
       "3     9.936636e-01  1.007852e+00  1.011485e+00  1.028136e+00  1.022385e+00   \n",
       "4     1.014088e+00  9.928635e-01  9.985633e-01  1.041991e+00  1.028121e+00   \n",
       "...            ...           ...           ...           ...           ...   \n",
       "7556  2.849670e+08  5.995903e+07  1.360336e+08  1.013590e+08  7.443177e+07   \n",
       "7557  2.823061e+08  6.072198e+07  1.350828e+08  1.029247e+08  7.425182e+07   \n",
       "7558  2.792973e+08  6.081826e+07  1.325228e+08  1.034070e+08  7.405331e+07   \n",
       "7559  2.853136e+08  6.220224e+07  1.318800e+08  1.036159e+08  7.354302e+07   \n",
       "7560  2.933273e+08  6.497001e+07  1.332320e+08  1.046684e+08  7.210612e+07   \n",
       "\n",
       "               499  \n",
       "0     1.000000e+00  \n",
       "1     9.676998e-01  \n",
       "2     9.916829e-01  \n",
       "3     9.903295e-01  \n",
       "4     9.942576e-01  \n",
       "...            ...  \n",
       "7556  2.938923e+08  \n",
       "7557  2.939346e+08  \n",
       "7558  3.004140e+08  \n",
       "7559  3.018978e+08  \n",
       "7560  2.978445e+08  \n",
       "\n",
       "[7561 rows x 500 columns]"
      ]
     },
     "execution_count": 52,
     "metadata": {},
     "output_type": "execute_result"
    }
   ],
   "source": [
    "# Run the Monte Carlo simulation to forecast 30 years cumulative returns\n",
    "MC_thirty_years.calc_cumulative_return()"
   ]
  },
  {
   "cell_type": "code",
   "execution_count": 53,
   "metadata": {},
   "outputs": [
    {
     "data": {
      "image/png": "[encoded data removed]",
      "text/plain": [
       "<Figure size 432x288 with 1 Axes>"
      ]
     },
     "metadata": {
      "needs_background": "light"
     },
     "output_type": "display_data"
    }
   ],
   "source": [
    "# Visualize the 30-year Monte Carlo simulation by creating an\n",
    "# overlay line plot\n",
    "MC_plot = MC_thirty_years.plot_simulation()"
   ]
  },
  {
   "cell_type": "markdown",
   "metadata": {},
   "source": [
    "#### Step 3: Plot the probability distribution of the Monte Carlo simulation."
   ]
  },
  {
   "cell_type": "code",
   "execution_count": 54,
   "metadata": {},
   "outputs": [
    {
     "data": {
      "image/png": "[encoded data removed]",
      "text/plain": [
       "<Figure size 432x288 with 1 Axes>"
      ]
     },
     "metadata": {
      "needs_background": "light"
     },
     "output_type": "display_data"
    }
   ],
   "source": [
    "# Visualize the probability distribution of the 30-year Monte Carlo simulation \n",
    "# by plotting a histogram\n",
    "# YOUR CODE HERE\n",
    "MC_dist_plot = MC_thirty_years.plot_distribution()"
   ]
  },
  {
   "cell_type": "markdown",
   "metadata": {},
   "source": [
    "#### Step 4: Generate the summary statistics for the Monte Carlo simulation."
   ]
  },
  {
   "cell_type": "code",
   "execution_count": 76,
   "metadata": {},
   "outputs": [
    {
     "data": {
      "text/plain": [
       "count           5.000000e+02\n",
       "mean            3.647156e+08\n",
       "std             5.411540e+08\n",
       "min             7.564689e+06\n",
       "25%             8.482736e+07\n",
       "50%             1.729054e+08\n",
       "75%             4.001543e+08\n",
       "max             4.933563e+09\n",
       "95% CI Lower    2.185698e+07\n",
       "95% CI Upper    1.996150e+09\n",
       "Name: 7560, dtype: float64"
      ]
     },
     "execution_count": 76,
     "metadata": {},
     "output_type": "execute_result"
    }
   ],
   "source": [
    "# Generate summary statistics from the 30-year Monte Carlo simulation results\n",
    "# Save the results as a variable\n",
    "MC_summary_statistics = MC_thirty_years.summarize_cumulative_return()\n",
    "\n",
    "# Review the 30-year Monte Carlo summary statistics\n",
    "MC_summary_statistics"
   ]
  },
  {
   "cell_type": "markdown",
   "metadata": {},
   "source": [
    "### Analyze the Retirement Portfolio Forecasts\n",
    "\n",
    "Using the current value of only the stock and bond portion of the member's portfolio and the summary statistics that you generated from the Monte Carlo simulation, answer the following question in your Jupyter notebook:\n",
    "\n",
    "-  What are the lower and upper bounds for the expected value of the portfolio with a 95% confidence interval?\n"
   ]
  },
  {
   "cell_type": "code",
   "execution_count": 80,
   "metadata": {},
   "outputs": [
    {
     "data": {
      "text/plain": [
       "Amount    66311.0\n",
       "Name: stock/bond, dtype: float64"
      ]
     },
     "execution_count": 80,
     "metadata": {},
     "output_type": "execute_result"
    }
   ],
   "source": [
    "# Print the current balance of the stock and bond portion of the members portfolio\n",
    "savings_df.loc['stock/bond']"
   ]
  },
  {
   "cell_type": "code",
   "execution_count": 81,
   "metadata": {},
   "outputs": [
    {
     "name": "stdout",
     "output_type": "stream",
     "text": [
      "Amount    1.449358e+12\n",
      "Name: stock/bond, dtype: float64\n",
      "Amount    1.323667e+14\n",
      "Name: stock/bond, dtype: float64\n"
     ]
    }
   ],
   "source": [
    "# Use the lower and upper `95%` confidence intervals to calculate the range of the possible outcomes for the current stock/bond portfolio\n",
    "ci_lower_thirty_cumulative_return = MC_summary_statistics[8] * savings_df.loc['stock/bond']\n",
    "ci_upper_thirty_cumulative_return = MC_summary_statistics[9] * savings_df.loc['stock/bond']\n",
    "\n",
    "# Print the result of your calculations\n",
    "print(ci_lower_thirty_cumulative_return)\n",
    "print(ci_upper_thirty_cumulative_return)"
   ]
  },
  {
   "cell_type": "markdown",
   "metadata": {},
   "source": [
    "### Forecast Cumulative Returns in 10 Years\n",
    "\n",
    "The CTO of the credit union is impressed with your work on these planning tools but wonders if 30 years is a long time to wait until retirement. So, your next task is to adjust the retirement portfolio and run a new Monte Carlo simulation to find out if the changes will allow members to retire earlier.\n",
    "\n",
    "For this new Monte Carlo simulation, do the following: \n",
    "\n",
    "- Forecast the cumulative returns for 10 years from now. Because of the shortened investment horizon (30 years to 10 years), the portfolio needs to invest more heavily in the riskier asset&mdash;that is, stock&mdash;to help accumulate wealth for retirement. \n",
    "\n",
    "- Adjust the weights of the retirement portfolio so that the composition for the Monte Carlo simulation consists of 20% bonds and 80% stocks. \n",
    "\n",
    "- Run the simulation over 500 samples, and use the same data that the API call to Alpaca generated.\n",
    "\n",
    "- Based on the new Monte Carlo simulation, answer the following questions in your Jupyter notebook:\n",
    "\n",
    "    - Using the current value of only the stock and bond portion of the member's portfolio and the summary statistics that you generated from the new Monte Carlo simulation, what are the lower and upper bounds for the expected value of the portfolio (with the new weights) with a 95% confidence interval?\n",
    "\n",
    "    - Will weighting the portfolio more heavily toward stocks allow the credit union members to retire after only 10 years?\n"
   ]
  },
  {
   "cell_type": "code",
   "execution_count": 82,
   "metadata": {},
   "outputs": [
    {
     "data": {
      "text/html": [
       "<div>\n",
       "<style scoped>\n",
       "    .dataframe tbody tr th:only-of-type {\n",
       "        vertical-align: middle;\n",
       "    }\n",
       "\n",
       "    .dataframe tbody tr th {\n",
       "        vertical-align: top;\n",
       "    }\n",
       "\n",
       "    .dataframe thead tr th {\n",
       "        text-align: left;\n",
       "    }\n",
       "\n",
       "    .dataframe thead tr:last-of-type th {\n",
       "        text-align: right;\n",
       "    }\n",
       "</style>\n",
       "<table border=\"1\" class=\"dataframe\">\n",
       "  <thead>\n",
       "    <tr>\n",
       "      <th></th>\n",
       "      <th colspan=\"6\" halign=\"left\">AGG</th>\n",
       "      <th colspan=\"6\" halign=\"left\">SPY</th>\n",
       "    </tr>\n",
       "    <tr>\n",
       "      <th></th>\n",
       "      <th>open</th>\n",
       "      <th>high</th>\n",
       "      <th>low</th>\n",
       "      <th>close</th>\n",
       "      <th>volume</th>\n",
       "      <th>daily_return</th>\n",
       "      <th>open</th>\n",
       "      <th>high</th>\n",
       "      <th>low</th>\n",
       "      <th>close</th>\n",
       "      <th>volume</th>\n",
       "      <th>daily_return</th>\n",
       "    </tr>\n",
       "    <tr>\n",
       "      <th>time</th>\n",
       "      <th></th>\n",
       "      <th></th>\n",
       "      <th></th>\n",
       "      <th></th>\n",
       "      <th></th>\n",
       "      <th></th>\n",
       "      <th></th>\n",
       "      <th></th>\n",
       "      <th></th>\n",
       "      <th></th>\n",
       "      <th></th>\n",
       "      <th></th>\n",
       "    </tr>\n",
       "  </thead>\n",
       "  <tbody>\n",
       "    <tr>\n",
       "      <th>2020-03-18 00:00:00-04:00</th>\n",
       "      <td>109.36</td>\n",
       "      <td>110.5700</td>\n",
       "      <td>105.7707</td>\n",
       "      <td>106.33</td>\n",
       "      <td>30117292</td>\n",
       "      <td>NaN</td>\n",
       "      <td>236.25</td>\n",
       "      <td>248.3700</td>\n",
       "      <td>228.02</td>\n",
       "      <td>241.01</td>\n",
       "      <td>298252778</td>\n",
       "      <td>NaN</td>\n",
       "    </tr>\n",
       "    <tr>\n",
       "      <th>2020-03-19 00:00:00-04:00</th>\n",
       "      <td>106.47</td>\n",
       "      <td>109.2200</td>\n",
       "      <td>105.5600</td>\n",
       "      <td>108.97</td>\n",
       "      <td>21031320</td>\n",
       "      <td>0.024828</td>\n",
       "      <td>239.25</td>\n",
       "      <td>247.3800</td>\n",
       "      <td>232.22</td>\n",
       "      <td>241.16</td>\n",
       "      <td>261233795</td>\n",
       "      <td>0.000622</td>\n",
       "    </tr>\n",
       "    <tr>\n",
       "      <th>2020-03-20 00:00:00-04:00</th>\n",
       "      <td>108.46</td>\n",
       "      <td>110.2399</td>\n",
       "      <td>108.4600</td>\n",
       "      <td>109.49</td>\n",
       "      <td>28449412</td>\n",
       "      <td>0.004772</td>\n",
       "      <td>242.53</td>\n",
       "      <td>244.4700</td>\n",
       "      <td>228.50</td>\n",
       "      <td>228.94</td>\n",
       "      <td>302880969</td>\n",
       "      <td>-0.050672</td>\n",
       "    </tr>\n",
       "    <tr>\n",
       "      <th>2020-03-23 00:00:00-04:00</th>\n",
       "      <td>109.90</td>\n",
       "      <td>112.9400</td>\n",
       "      <td>109.0000</td>\n",
       "      <td>112.55</td>\n",
       "      <td>23873510</td>\n",
       "      <td>0.027948</td>\n",
       "      <td>228.19</td>\n",
       "      <td>229.6833</td>\n",
       "      <td>218.26</td>\n",
       "      <td>222.51</td>\n",
       "      <td>280560712</td>\n",
       "      <td>-0.028086</td>\n",
       "    </tr>\n",
       "    <tr>\n",
       "      <th>2020-03-24 00:00:00-04:00</th>\n",
       "      <td>111.52</td>\n",
       "      <td>113.5000</td>\n",
       "      <td>111.0754</td>\n",
       "      <td>113.29</td>\n",
       "      <td>18141498</td>\n",
       "      <td>0.006575</td>\n",
       "      <td>234.42</td>\n",
       "      <td>244.1000</td>\n",
       "      <td>233.80</td>\n",
       "      <td>243.59</td>\n",
       "      <td>211595249</td>\n",
       "      <td>0.094737</td>\n",
       "    </tr>\n",
       "  </tbody>\n",
       "</table>\n",
       "</div>"
      ],
      "text/plain": [
       "                              AGG                                        \\\n",
       "                             open      high       low   close    volume   \n",
       "time                                                                      \n",
       "2020-03-18 00:00:00-04:00  109.36  110.5700  105.7707  106.33  30117292   \n",
       "2020-03-19 00:00:00-04:00  106.47  109.2200  105.5600  108.97  21031320   \n",
       "2020-03-20 00:00:00-04:00  108.46  110.2399  108.4600  109.49  28449412   \n",
       "2020-03-23 00:00:00-04:00  109.90  112.9400  109.0000  112.55  23873510   \n",
       "2020-03-24 00:00:00-04:00  111.52  113.5000  111.0754  113.29  18141498   \n",
       "\n",
       "                                           SPY                            \\\n",
       "                          daily_return    open      high     low   close   \n",
       "time                                                                       \n",
       "2020-03-18 00:00:00-04:00          NaN  236.25  248.3700  228.02  241.01   \n",
       "2020-03-19 00:00:00-04:00     0.024828  239.25  247.3800  232.22  241.16   \n",
       "2020-03-20 00:00:00-04:00     0.004772  242.53  244.4700  228.50  228.94   \n",
       "2020-03-23 00:00:00-04:00     0.027948  228.19  229.6833  218.26  222.51   \n",
       "2020-03-24 00:00:00-04:00     0.006575  234.42  244.1000  233.80  243.59   \n",
       "\n",
       "                                                   \n",
       "                              volume daily_return  \n",
       "time                                               \n",
       "2020-03-18 00:00:00-04:00  298252778          NaN  \n",
       "2020-03-19 00:00:00-04:00  261233795     0.000622  \n",
       "2020-03-20 00:00:00-04:00  302880969    -0.050672  \n",
       "2020-03-23 00:00:00-04:00  280560712    -0.028086  \n",
       "2020-03-24 00:00:00-04:00  211595249     0.094737  "
      ]
     },
     "execution_count": 82,
     "metadata": {},
     "output_type": "execute_result"
    }
   ],
   "source": [
    "# Configure a Monte Carlo simulation to forecast 10 years cumulative returns\n",
    "# The weights should be split 20% to AGG and 80% to SPY.\n",
    "MC_ten_years = MCSimulation(\n",
    "portfolio_data = ticker_data,\n",
    "weights=[.20, .80],\n",
    "num_simulation=500,\n",
    "num_trading_days=252*10)\n",
    "\n",
    "# Review the simulation input data\n",
    "MC_ten_years.portfolio_data.head()"
   ]
  },
  {
   "cell_type": "code",
   "execution_count": 83,
   "metadata": {},
   "outputs": [
    {
     "name": "stdout",
     "output_type": "stream",
     "text": [
      "Running Monte Carlo simulation number 0.\n",
      "Running Monte Carlo simulation number 10.\n",
      "Running Monte Carlo simulation number 20.\n",
      "Running Monte Carlo simulation number 30.\n",
      "Running Monte Carlo simulation number 40.\n",
      "Running Monte Carlo simulation number 50.\n",
      "Running Monte Carlo simulation number 60.\n",
      "Running Monte Carlo simulation number 70.\n",
      "Running Monte Carlo simulation number 80.\n",
      "Running Monte Carlo simulation number 90.\n",
      "Running Monte Carlo simulation number 100.\n",
      "Running Monte Carlo simulation number 110.\n",
      "Running Monte Carlo simulation number 120.\n",
      "Running Monte Carlo simulation number 130.\n",
      "Running Monte Carlo simulation number 140.\n",
      "Running Monte Carlo simulation number 150.\n",
      "Running Monte Carlo simulation number 160.\n",
      "Running Monte Carlo simulation number 170.\n",
      "Running Monte Carlo simulation number 180.\n",
      "Running Monte Carlo simulation number 190.\n",
      "Running Monte Carlo simulation number 200.\n",
      "Running Monte Carlo simulation number 210.\n",
      "Running Monte Carlo simulation number 220.\n",
      "Running Monte Carlo simulation number 230.\n",
      "Running Monte Carlo simulation number 240.\n",
      "Running Monte Carlo simulation number 250.\n",
      "Running Monte Carlo simulation number 260.\n",
      "Running Monte Carlo simulation number 270.\n",
      "Running Monte Carlo simulation number 280.\n",
      "Running Monte Carlo simulation number 290.\n",
      "Running Monte Carlo simulation number 300.\n",
      "Running Monte Carlo simulation number 310.\n",
      "Running Monte Carlo simulation number 320.\n",
      "Running Monte Carlo simulation number 330.\n",
      "Running Monte Carlo simulation number 340.\n",
      "Running Monte Carlo simulation number 350.\n",
      "Running Monte Carlo simulation number 360.\n",
      "Running Monte Carlo simulation number 370.\n",
      "Running Monte Carlo simulation number 380.\n",
      "Running Monte Carlo simulation number 390.\n",
      "Running Monte Carlo simulation number 400.\n",
      "Running Monte Carlo simulation number 410.\n",
      "Running Monte Carlo simulation number 420.\n",
      "Running Monte Carlo simulation number 430.\n",
      "Running Monte Carlo simulation number 440.\n",
      "Running Monte Carlo simulation number 450.\n",
      "Running Monte Carlo simulation number 460.\n",
      "Running Monte Carlo simulation number 470.\n",
      "Running Monte Carlo simulation number 480.\n",
      "Running Monte Carlo simulation number 490.\n"
     ]
    },
    {
     "data": {
      "text/html": [
       "<div>\n",
       "<style scoped>\n",
       "    .dataframe tbody tr th:only-of-type {\n",
       "        vertical-align: middle;\n",
       "    }\n",
       "\n",
       "    .dataframe tbody tr th {\n",
       "        vertical-align: top;\n",
       "    }\n",
       "\n",
       "    .dataframe thead th {\n",
       "        text-align: right;\n",
       "    }\n",
       "</style>\n",
       "<table border=\"1\" class=\"dataframe\">\n",
       "  <thead>\n",
       "    <tr style=\"text-align: right;\">\n",
       "      <th></th>\n",
       "      <th>0</th>\n",
       "      <th>1</th>\n",
       "      <th>2</th>\n",
       "      <th>3</th>\n",
       "      <th>4</th>\n",
       "      <th>5</th>\n",
       "      <th>6</th>\n",
       "      <th>7</th>\n",
       "      <th>8</th>\n",
       "      <th>9</th>\n",
       "      <th>...</th>\n",
       "      <th>490</th>\n",
       "      <th>491</th>\n",
       "      <th>492</th>\n",
       "      <th>493</th>\n",
       "      <th>494</th>\n",
       "      <th>495</th>\n",
       "      <th>496</th>\n",
       "      <th>497</th>\n",
       "      <th>498</th>\n",
       "      <th>499</th>\n",
       "    </tr>\n",
       "  </thead>\n",
       "  <tbody>\n",
       "    <tr>\n",
       "      <th>0</th>\n",
       "      <td>1.000000</td>\n",
       "      <td>1.000000</td>\n",
       "      <td>1.000000</td>\n",
       "      <td>1.000000</td>\n",
       "      <td>1.000000</td>\n",
       "      <td>1.000000</td>\n",
       "      <td>1.000000</td>\n",
       "      <td>1.000000</td>\n",
       "      <td>1.000000</td>\n",
       "      <td>1.000000</td>\n",
       "      <td>...</td>\n",
       "      <td>1.000000</td>\n",
       "      <td>1.000000</td>\n",
       "      <td>1.000000</td>\n",
       "      <td>1.000000</td>\n",
       "      <td>1.000000</td>\n",
       "      <td>1.000000</td>\n",
       "      <td>1.000000</td>\n",
       "      <td>1.000000</td>\n",
       "      <td>1.000000</td>\n",
       "      <td>1.000000</td>\n",
       "    </tr>\n",
       "    <tr>\n",
       "      <th>1</th>\n",
       "      <td>1.006740</td>\n",
       "      <td>0.999676</td>\n",
       "      <td>1.008789</td>\n",
       "      <td>0.998834</td>\n",
       "      <td>1.012387</td>\n",
       "      <td>1.008416</td>\n",
       "      <td>1.004930</td>\n",
       "      <td>1.020604</td>\n",
       "      <td>0.992799</td>\n",
       "      <td>1.009772</td>\n",
       "      <td>...</td>\n",
       "      <td>1.043158</td>\n",
       "      <td>1.041444</td>\n",
       "      <td>1.002175</td>\n",
       "      <td>1.015262</td>\n",
       "      <td>1.030866</td>\n",
       "      <td>0.970348</td>\n",
       "      <td>1.013246</td>\n",
       "      <td>0.997452</td>\n",
       "      <td>0.966670</td>\n",
       "      <td>0.962448</td>\n",
       "    </tr>\n",
       "    <tr>\n",
       "      <th>2</th>\n",
       "      <td>1.028670</td>\n",
       "      <td>0.989121</td>\n",
       "      <td>0.997538</td>\n",
       "      <td>0.978439</td>\n",
       "      <td>1.000420</td>\n",
       "      <td>0.988837</td>\n",
       "      <td>0.994850</td>\n",
       "      <td>1.040040</td>\n",
       "      <td>0.986961</td>\n",
       "      <td>1.032387</td>\n",
       "      <td>...</td>\n",
       "      <td>1.063926</td>\n",
       "      <td>1.036519</td>\n",
       "      <td>0.970867</td>\n",
       "      <td>1.023073</td>\n",
       "      <td>1.026510</td>\n",
       "      <td>0.958942</td>\n",
       "      <td>0.999366</td>\n",
       "      <td>0.995927</td>\n",
       "      <td>0.986707</td>\n",
       "      <td>0.964489</td>\n",
       "    </tr>\n",
       "    <tr>\n",
       "      <th>3</th>\n",
       "      <td>1.032579</td>\n",
       "      <td>1.009199</td>\n",
       "      <td>1.004998</td>\n",
       "      <td>0.940708</td>\n",
       "      <td>1.006210</td>\n",
       "      <td>1.013380</td>\n",
       "      <td>1.014541</td>\n",
       "      <td>1.041428</td>\n",
       "      <td>0.983853</td>\n",
       "      <td>1.035394</td>\n",
       "      <td>...</td>\n",
       "      <td>1.053473</td>\n",
       "      <td>1.019517</td>\n",
       "      <td>0.929764</td>\n",
       "      <td>1.034848</td>\n",
       "      <td>1.030920</td>\n",
       "      <td>0.945796</td>\n",
       "      <td>1.037613</td>\n",
       "      <td>0.992121</td>\n",
       "      <td>1.001244</td>\n",
       "      <td>0.941513</td>\n",
       "    </tr>\n",
       "    <tr>\n",
       "      <th>4</th>\n",
       "      <td>1.068594</td>\n",
       "      <td>1.016643</td>\n",
       "      <td>1.010668</td>\n",
       "      <td>0.944667</td>\n",
       "      <td>1.003310</td>\n",
       "      <td>1.006833</td>\n",
       "      <td>0.992191</td>\n",
       "      <td>1.044406</td>\n",
       "      <td>1.007846</td>\n",
       "      <td>1.009262</td>\n",
       "      <td>...</td>\n",
       "      <td>1.077905</td>\n",
       "      <td>1.011802</td>\n",
       "      <td>0.922573</td>\n",
       "      <td>1.058337</td>\n",
       "      <td>1.035926</td>\n",
       "      <td>0.943461</td>\n",
       "      <td>1.051789</td>\n",
       "      <td>1.047230</td>\n",
       "      <td>1.009854</td>\n",
       "      <td>0.942714</td>\n",
       "    </tr>\n",
       "    <tr>\n",
       "      <th>...</th>\n",
       "      <td>...</td>\n",
       "      <td>...</td>\n",
       "      <td>...</td>\n",
       "      <td>...</td>\n",
       "      <td>...</td>\n",
       "      <td>...</td>\n",
       "      <td>...</td>\n",
       "      <td>...</td>\n",
       "      <td>...</td>\n",
       "      <td>...</td>\n",
       "      <td>...</td>\n",
       "      <td>...</td>\n",
       "      <td>...</td>\n",
       "      <td>...</td>\n",
       "      <td>...</td>\n",
       "      <td>...</td>\n",
       "      <td>...</td>\n",
       "      <td>...</td>\n",
       "      <td>...</td>\n",
       "      <td>...</td>\n",
       "      <td>...</td>\n",
       "    </tr>\n",
       "    <tr>\n",
       "      <th>2516</th>\n",
       "      <td>338.333396</td>\n",
       "      <td>848.388168</td>\n",
       "      <td>622.509849</td>\n",
       "      <td>366.361720</td>\n",
       "      <td>2344.326143</td>\n",
       "      <td>1493.868545</td>\n",
       "      <td>2899.254741</td>\n",
       "      <td>1369.053780</td>\n",
       "      <td>313.760233</td>\n",
       "      <td>220.444565</td>\n",
       "      <td>...</td>\n",
       "      <td>1795.781804</td>\n",
       "      <td>3248.704224</td>\n",
       "      <td>1115.839035</td>\n",
       "      <td>1910.126759</td>\n",
       "      <td>2885.902842</td>\n",
       "      <td>1748.960058</td>\n",
       "      <td>5253.092742</td>\n",
       "      <td>2869.180797</td>\n",
       "      <td>2319.003679</td>\n",
       "      <td>758.046746</td>\n",
       "    </tr>\n",
       "    <tr>\n",
       "      <th>2517</th>\n",
       "      <td>335.483229</td>\n",
       "      <td>849.301945</td>\n",
       "      <td>622.289130</td>\n",
       "      <td>370.258588</td>\n",
       "      <td>2304.125274</td>\n",
       "      <td>1494.488983</td>\n",
       "      <td>2918.914421</td>\n",
       "      <td>1414.941053</td>\n",
       "      <td>323.089811</td>\n",
       "      <td>226.992327</td>\n",
       "      <td>...</td>\n",
       "      <td>1854.863733</td>\n",
       "      <td>3299.546544</td>\n",
       "      <td>1138.487165</td>\n",
       "      <td>1876.120249</td>\n",
       "      <td>2826.845087</td>\n",
       "      <td>1713.859287</td>\n",
       "      <td>5225.046690</td>\n",
       "      <td>2793.761936</td>\n",
       "      <td>2301.358908</td>\n",
       "      <td>764.609208</td>\n",
       "    </tr>\n",
       "    <tr>\n",
       "      <th>2518</th>\n",
       "      <td>333.430150</td>\n",
       "      <td>856.783908</td>\n",
       "      <td>614.035823</td>\n",
       "      <td>366.428084</td>\n",
       "      <td>2335.397152</td>\n",
       "      <td>1464.613678</td>\n",
       "      <td>2877.427450</td>\n",
       "      <td>1441.102886</td>\n",
       "      <td>329.381284</td>\n",
       "      <td>231.592654</td>\n",
       "      <td>...</td>\n",
       "      <td>1835.543956</td>\n",
       "      <td>3384.515867</td>\n",
       "      <td>1149.373997</td>\n",
       "      <td>1912.218882</td>\n",
       "      <td>2751.453479</td>\n",
       "      <td>1715.373128</td>\n",
       "      <td>5207.520116</td>\n",
       "      <td>2783.249574</td>\n",
       "      <td>2279.249669</td>\n",
       "      <td>749.496373</td>\n",
       "    </tr>\n",
       "    <tr>\n",
       "      <th>2519</th>\n",
       "      <td>327.158906</td>\n",
       "      <td>862.410517</td>\n",
       "      <td>611.475168</td>\n",
       "      <td>362.223100</td>\n",
       "      <td>2382.549158</td>\n",
       "      <td>1469.390095</td>\n",
       "      <td>2919.018945</td>\n",
       "      <td>1437.620830</td>\n",
       "      <td>328.690905</td>\n",
       "      <td>228.428511</td>\n",
       "      <td>...</td>\n",
       "      <td>1887.907662</td>\n",
       "      <td>3394.546055</td>\n",
       "      <td>1166.506599</td>\n",
       "      <td>1885.628660</td>\n",
       "      <td>2743.742008</td>\n",
       "      <td>1717.647250</td>\n",
       "      <td>5361.597088</td>\n",
       "      <td>2806.692640</td>\n",
       "      <td>2277.274365</td>\n",
       "      <td>749.957377</td>\n",
       "    </tr>\n",
       "    <tr>\n",
       "      <th>2520</th>\n",
       "      <td>329.600294</td>\n",
       "      <td>874.415111</td>\n",
       "      <td>614.486435</td>\n",
       "      <td>368.262179</td>\n",
       "      <td>2447.558237</td>\n",
       "      <td>1486.726007</td>\n",
       "      <td>2874.072753</td>\n",
       "      <td>1463.134841</td>\n",
       "      <td>337.970584</td>\n",
       "      <td>227.188251</td>\n",
       "      <td>...</td>\n",
       "      <td>1893.420590</td>\n",
       "      <td>3300.572005</td>\n",
       "      <td>1173.588082</td>\n",
       "      <td>1932.936650</td>\n",
       "      <td>2755.160512</td>\n",
       "      <td>1738.650826</td>\n",
       "      <td>5211.722508</td>\n",
       "      <td>2740.252160</td>\n",
       "      <td>2250.625554</td>\n",
       "      <td>735.339011</td>\n",
       "    </tr>\n",
       "  </tbody>\n",
       "</table>\n",
       "<p>2521 rows × 500 columns</p>\n",
       "</div>"
      ],
      "text/plain": [
       "             0           1           2           3            4    \\\n",
       "0       1.000000    1.000000    1.000000    1.000000     1.000000   \n",
       "1       1.006740    0.999676    1.008789    0.998834     1.012387   \n",
       "2       1.028670    0.989121    0.997538    0.978439     1.000420   \n",
       "3       1.032579    1.009199    1.004998    0.940708     1.006210   \n",
       "4       1.068594    1.016643    1.010668    0.944667     1.003310   \n",
       "...          ...         ...         ...         ...          ...   \n",
       "2516  338.333396  848.388168  622.509849  366.361720  2344.326143   \n",
       "2517  335.483229  849.301945  622.289130  370.258588  2304.125274   \n",
       "2518  333.430150  856.783908  614.035823  366.428084  2335.397152   \n",
       "2519  327.158906  862.410517  611.475168  362.223100  2382.549158   \n",
       "2520  329.600294  874.415111  614.486435  368.262179  2447.558237   \n",
       "\n",
       "              5            6            7           8           9    ...  \\\n",
       "0        1.000000     1.000000     1.000000    1.000000    1.000000  ...   \n",
       "1        1.008416     1.004930     1.020604    0.992799    1.009772  ...   \n",
       "2        0.988837     0.994850     1.040040    0.986961    1.032387  ...   \n",
       "3        1.013380     1.014541     1.041428    0.983853    1.035394  ...   \n",
       "4        1.006833     0.992191     1.044406    1.007846    1.009262  ...   \n",
       "...           ...          ...          ...         ...         ...  ...   \n",
       "2516  1493.868545  2899.254741  1369.053780  313.760233  220.444565  ...   \n",
       "2517  1494.488983  2918.914421  1414.941053  323.089811  226.992327  ...   \n",
       "2518  1464.613678  2877.427450  1441.102886  329.381284  231.592654  ...   \n",
       "2519  1469.390095  2919.018945  1437.620830  328.690905  228.428511  ...   \n",
       "2520  1486.726007  2874.072753  1463.134841  337.970584  227.188251  ...   \n",
       "\n",
       "              490          491          492          493          494  \\\n",
       "0        1.000000     1.000000     1.000000     1.000000     1.000000   \n",
       "1        1.043158     1.041444     1.002175     1.015262     1.030866   \n",
       "2        1.063926     1.036519     0.970867     1.023073     1.026510   \n",
       "3        1.053473     1.019517     0.929764     1.034848     1.030920   \n",
       "4        1.077905     1.011802     0.922573     1.058337     1.035926   \n",
       "...           ...          ...          ...          ...          ...   \n",
       "2516  1795.781804  3248.704224  1115.839035  1910.126759  2885.902842   \n",
       "2517  1854.863733  3299.546544  1138.487165  1876.120249  2826.845087   \n",
       "2518  1835.543956  3384.515867  1149.373997  1912.218882  2751.453479   \n",
       "2519  1887.907662  3394.546055  1166.506599  1885.628660  2743.742008   \n",
       "2520  1893.420590  3300.572005  1173.588082  1932.936650  2755.160512   \n",
       "\n",
       "              495          496          497          498         499  \n",
       "0        1.000000     1.000000     1.000000     1.000000    1.000000  \n",
       "1        0.970348     1.013246     0.997452     0.966670    0.962448  \n",
       "2        0.958942     0.999366     0.995927     0.986707    0.964489  \n",
       "3        0.945796     1.037613     0.992121     1.001244    0.941513  \n",
       "4        0.943461     1.051789     1.047230     1.009854    0.942714  \n",
       "...           ...          ...          ...          ...         ...  \n",
       "2516  1748.960058  5253.092742  2869.180797  2319.003679  758.046746  \n",
       "2517  1713.859287  5225.046690  2793.761936  2301.358908  764.609208  \n",
       "2518  1715.373128  5207.520116  2783.249574  2279.249669  749.496373  \n",
       "2519  1717.647250  5361.597088  2806.692640  2277.274365  749.957377  \n",
       "2520  1738.650826  5211.722508  2740.252160  2250.625554  735.339011  \n",
       "\n",
       "[2521 rows x 500 columns]"
      ]
     },
     "execution_count": 83,
     "metadata": {},
     "output_type": "execute_result"
    }
   ],
   "source": [
    "# Run the Monte Carlo simulation to forecast 10 years cumulative returns\n",
    "MC_ten_years.calc_cumulative_return()"
   ]
  },
  {
   "cell_type": "code",
   "execution_count": 84,
   "metadata": {},
   "outputs": [
    {
     "data": {
      "image/png": "[encoded data removed]",
      "text/plain": [
       "<Figure size 432x288 with 1 Axes>"
      ]
     },
     "metadata": {
      "needs_background": "light"
     },
     "output_type": "display_data"
    }
   ],
   "source": [
    "# Visualize the 10-year Monte Carlo simulation by creating an\n",
    "# overlay line plot\n",
    "MC_plot = MC_ten_years.plot_simulation()"
   ]
  },
  {
   "cell_type": "code",
   "execution_count": 85,
   "metadata": {},
   "outputs": [
    {
     "data": {
      "image/png": "[encoded data removed]",
      "text/plain": [
       "<Figure size 432x288 with 1 Axes>"
      ]
     },
     "metadata": {
      "needs_background": "light"
     },
     "output_type": "display_data"
    }
   ],
   "source": [
    "# Visualize the probability distribution of the 10-year Monte Carlo simulation \n",
    "MC_dist_plot = MC_ten_years.plot_distribution()"
   ]
  },
  {
   "cell_type": "code",
   "execution_count": 86,
   "metadata": {},
   "outputs": [
    {
     "data": {
      "text/plain": [
       "count             500.000000\n",
       "mean             2162.517150\n",
       "std              2089.328002\n",
       "min                96.685201\n",
       "25%               906.482867\n",
       "50%              1554.740038\n",
       "75%              2697.329916\n",
       "max             15192.346599\n",
       "95% CI Lower      278.089406\n",
       "95% CI Upper     8142.463330\n",
       "Name: 2520, dtype: float64"
      ]
     },
     "execution_count": 86,
     "metadata": {},
     "output_type": "execute_result"
    }
   ],
   "source": [
    "# Generate summary statistics from the 10-year Monte Carlo simulation results\n",
    "# Save the results as a variable\n",
    "MC_summary_statistics = MC_ten_years.summarize_cumulative_return()\n",
    "\n",
    "# Review the 10-year Monte Carlo summary statistics\n",
    "MC_summary_statistics"
   ]
  },
  {
   "cell_type": "markdown",
   "metadata": {},
   "source": [
    "### Answer the following questions:"
   ]
  },
  {
   "cell_type": "markdown",
   "metadata": {},
   "source": [
    "#### Question: Using the current value of only the stock and bond portion of the member's portfolio and the summary statistics that you generated from the new Monte Carlo simulation, what are the lower and upper bounds for the expected value of the portfolio (with the new weights) with a 95% confidence interval?"
   ]
  },
  {
   "cell_type": "code",
   "execution_count": 88,
   "metadata": {},
   "outputs": [
    {
     "data": {
      "text/plain": [
       "Amount    66311.0\n",
       "Name: stock/bond, dtype: float64"
      ]
     },
     "execution_count": 88,
     "metadata": {},
     "output_type": "execute_result"
    }
   ],
   "source": [
    "# Print the current balance of the stock and bond portion of the members portfolio\n",
    "savings_df.loc['stock/bond']"
   ]
  },
  {
   "cell_type": "code",
   "execution_count": 90,
   "metadata": {},
   "outputs": [
    {
     "name": "stdout",
     "output_type": "stream",
     "text": [
      "Amount    1.844039e+07\n",
      "Name: stock/bond, dtype: float64\n",
      "Amount    5.399349e+08\n",
      "Name: stock/bond, dtype: float64\n"
     ]
    }
   ],
   "source": [
    "# Use the lower and upper `95%` confidence intervals to calculate the range of the possible outcomes for the current stock/bond portfolio\n",
    "ci_lower_ten_cumulative_return = MC_summary_statistics[8] * savings_df.loc['stock/bond']\n",
    "ci_upper_ten_cumulative_return = MC_summary_statistics[9] * savings_df.loc['stock/bond']\n",
    "\n",
    "# Print the result of your calculations\n",
    "print(ci_lower_ten_cumulative_return)\n",
    "print(ci_upper_ten_cumulative_return)"
   ]
  },
  {
   "cell_type": "markdown",
   "metadata": {},
   "source": [
    "#### Question: Will weighting the portfolio more heavily to stocks allow the credit union members to retire after only 10 years?"
   ]
  },
  {
   "cell_type": "raw",
   "metadata": {},
   "source": [
    "**No**"
   ]
  },
  {
   "cell_type": "code",
   "execution_count": null,
   "metadata": {},
   "outputs": [],
   "source": []
  }
 ],
 "metadata": {
  "kernelspec": {
   "display_name": "Python 3",
   "language": "python",
   "name": "python3"
  },
  "language_info": {
   "codemirror_mode": {
    "name": "ipython",
    "version": 3
   },
   "file_extension": ".py",
   "mimetype": "text/x-python",
   "name": "python",
   "nbconvert_exporter": "python",
   "pygments_lexer": "ipython3",
   "version": "3.8.8"
  }
 },
 "nbformat": 4,
 "nbformat_minor": 4
}
